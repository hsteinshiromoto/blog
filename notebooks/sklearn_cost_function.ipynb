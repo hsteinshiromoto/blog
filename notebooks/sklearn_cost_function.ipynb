{
 "cells": [
  {
   "cell_type": "markdown",
   "metadata": {},
   "source": [
    "# Import"
   ]
  },
  {
   "cell_type": "markdown",
   "metadata": {},
   "source": [
    "## Modules"
   ]
  },
  {
   "cell_type": "code",
   "execution_count": 18,
   "metadata": {},
   "outputs": [],
   "source": [
    "import sklearn.metrics as sm\n",
    "from sklearn.datasets import make_classification\n",
    "from sklearn.model_selection import GridSearchCV\n",
    "from sklearn.linear_model import LogisticRegression\n",
    "from collections.abc import Iterable\n",
    "import pandas as pd\n",
    "import numpy as np"
   ]
  },
  {
   "cell_type": "code",
   "execution_count": 58,
   "metadata": {},
   "outputs": [],
   "source": [
    "def cost_function(y_true: Iterable[float], y_pred: Iterable[float], threshold: float, score_opt_val_map: Iterable[tuple[str, str, float]]) -> float:\n",
    "    \"\"\"_summary_\n",
    "\n",
    "    Args:\n",
    "        y_true (Iterable[float]): _description_\n",
    "        y_pred (Iterable[float]): _description_\n",
    "        threshold (float): _description_\n",
    "        score_opt_val_map (Iterable[tuple[str, str, float]]): _description_\n",
    "\n",
    "    Returns:\n",
    "        float: _description_\n",
    "        \n",
    "    Example:\n",
    "        >>> y_true = [0, 0, 0, 1, 1]\n",
    "        >>> y_pred = [0.46, 0.6, 0.29, 0.25, 0.012]\n",
    "        >>> threshold = 0.5\n",
    "        >>> score_opt_val_map = [(\"f1_score\", \"class\", 1),\n",
    "        ... (\"log_loss\", \"class\", 0),\n",
    "        ... (\"roc_auc_score\", \"proba\", 1)]\n",
    "        >>> round(cost_function(y_true, y_pred, threshold, score_opt_val_map))\n",
    "        21\n",
    "    \"\"\"\n",
    "    \n",
    "    y_pred_array = np.fromiter(y_pred, float)\n",
    "    y_true_array = np.fromiter(y_true, float)\n",
    "    \n",
    "    cost = 0\n",
    "    for (score_name, prediction_type, opt_val) in score_opt_val_map:\n",
    "        scorer = getattr(sm, score_name)\n",
    "        \n",
    "        if prediction_type == \"class\":\n",
    "            y_hat = np.where(y_pred_array > threshold, 1, 0)\n",
    "            \n",
    "        else:\n",
    "            y_hat = y_pred_array\n",
    "        \n",
    "        cost += (scorer(y_true_array, y_hat) - opt_val) ** 2\n",
    "        \n",
    "    return np.sqrt(cost)"
   ]
  },
  {
   "cell_type": "code",
   "execution_count": 63,
   "metadata": {},
   "outputs": [],
   "source": [
    "score_opt_val_map = [\n",
    "        (\"accuracy_score\", \"class\", 1),\n",
    "        (\"f1_score\", \"class\", 1),\n",
    "        (\"log_loss\", \"class\", 0),\n",
    "        (\"precision_score\", \"class\", 1),\n",
    "        (\"recall_score\", \"class\", 1),\n",
    "        (\"roc_auc_score\", \"proba\", 1),\n",
    "]\n",
    "scorer = sm.make_scorer(cost_function, greater_is_better=False, threshold = 0.5, score_opt_val_map = score_opt_val_map)\n"
   ]
  },
  {
   "cell_type": "code",
   "execution_count": 64,
   "metadata": {},
   "outputs": [],
   "source": [
    "X, y = make_classification()"
   ]
  },
  {
   "cell_type": "code",
   "execution_count": 65,
   "metadata": {},
   "outputs": [],
   "source": [
    "param_grid = {\"C\": [0.5, 1, 10]}\n",
    "cv = GridSearchCV(LogisticRegression(), param_grid, scoring=scorer)"
   ]
  },
  {
   "cell_type": "code",
   "execution_count": 66,
   "metadata": {},
   "outputs": [
    {
     "data": {
      "text/plain": [
       "GridSearchCV(estimator=LogisticRegression(), param_grid={'C': [0.5, 1, 10]},\n",
       "             scoring=make_scorer(cost_function, greater_is_better=False, threshold=0.5, score_opt_val_map=[('accuracy_score', 'class', 1)]))"
      ]
     },
     "execution_count": 66,
     "metadata": {},
     "output_type": "execute_result"
    }
   ],
   "source": [
    "cv.fit(X, y)"
   ]
  },
  {
   "cell_type": "code",
   "execution_count": 67,
   "metadata": {},
   "outputs": [
    {
     "data": {
      "text/html": [
       "<div>\n",
       "<style scoped>\n",
       "    .dataframe tbody tr th:only-of-type {\n",
       "        vertical-align: middle;\n",
       "    }\n",
       "\n",
       "    .dataframe tbody tr th {\n",
       "        vertical-align: top;\n",
       "    }\n",
       "\n",
       "    .dataframe thead th {\n",
       "        text-align: right;\n",
       "    }\n",
       "</style>\n",
       "<table border=\"1\" class=\"dataframe\">\n",
       "  <thead>\n",
       "    <tr style=\"text-align: right;\">\n",
       "      <th></th>\n",
       "      <th>mean_fit_time</th>\n",
       "      <th>std_fit_time</th>\n",
       "      <th>mean_score_time</th>\n",
       "      <th>std_score_time</th>\n",
       "      <th>param_C</th>\n",
       "      <th>params</th>\n",
       "      <th>split0_test_score</th>\n",
       "      <th>split1_test_score</th>\n",
       "      <th>split2_test_score</th>\n",
       "      <th>split3_test_score</th>\n",
       "      <th>split4_test_score</th>\n",
       "      <th>mean_test_score</th>\n",
       "      <th>std_test_score</th>\n",
       "      <th>rank_test_score</th>\n",
       "    </tr>\n",
       "  </thead>\n",
       "  <tbody>\n",
       "    <tr>\n",
       "      <th>0</th>\n",
       "      <td>0.011781</td>\n",
       "      <td>0.009709</td>\n",
       "      <td>0.000875</td>\n",
       "      <td>0.000592</td>\n",
       "      <td>0.5</td>\n",
       "      <td>{'C': 0.5}</td>\n",
       "      <td>-0.2</td>\n",
       "      <td>-0.15</td>\n",
       "      <td>-0.15</td>\n",
       "      <td>-0.15</td>\n",
       "      <td>-0.1</td>\n",
       "      <td>-0.15</td>\n",
       "      <td>0.031623</td>\n",
       "      <td>2</td>\n",
       "    </tr>\n",
       "    <tr>\n",
       "      <th>1</th>\n",
       "      <td>0.007976</td>\n",
       "      <td>0.001714</td>\n",
       "      <td>0.000470</td>\n",
       "      <td>0.000105</td>\n",
       "      <td>1</td>\n",
       "      <td>{'C': 1}</td>\n",
       "      <td>-0.2</td>\n",
       "      <td>-0.15</td>\n",
       "      <td>-0.15</td>\n",
       "      <td>-0.10</td>\n",
       "      <td>-0.1</td>\n",
       "      <td>-0.14</td>\n",
       "      <td>0.037417</td>\n",
       "      <td>1</td>\n",
       "    </tr>\n",
       "    <tr>\n",
       "      <th>2</th>\n",
       "      <td>0.005901</td>\n",
       "      <td>0.000245</td>\n",
       "      <td>0.000348</td>\n",
       "      <td>0.000014</td>\n",
       "      <td>10</td>\n",
       "      <td>{'C': 10}</td>\n",
       "      <td>-0.2</td>\n",
       "      <td>-0.25</td>\n",
       "      <td>-0.10</td>\n",
       "      <td>-0.00</td>\n",
       "      <td>-0.3</td>\n",
       "      <td>-0.17</td>\n",
       "      <td>0.107703</td>\n",
       "      <td>3</td>\n",
       "    </tr>\n",
       "  </tbody>\n",
       "</table>\n",
       "</div>"
      ],
      "text/plain": [
       "   mean_fit_time  std_fit_time  mean_score_time  std_score_time param_C  \\\n",
       "0       0.011781      0.009709         0.000875        0.000592     0.5   \n",
       "1       0.007976      0.001714         0.000470        0.000105       1   \n",
       "2       0.005901      0.000245         0.000348        0.000014      10   \n",
       "\n",
       "       params  split0_test_score  split1_test_score  split2_test_score  \\\n",
       "0  {'C': 0.5}               -0.2              -0.15              -0.15   \n",
       "1    {'C': 1}               -0.2              -0.15              -0.15   \n",
       "2   {'C': 10}               -0.2              -0.25              -0.10   \n",
       "\n",
       "   split3_test_score  split4_test_score  mean_test_score  std_test_score  \\\n",
       "0              -0.15               -0.1            -0.15        0.031623   \n",
       "1              -0.10               -0.1            -0.14        0.037417   \n",
       "2              -0.00               -0.3            -0.17        0.107703   \n",
       "\n",
       "   rank_test_score  \n",
       "0                2  \n",
       "1                1  \n",
       "2                3  "
      ]
     },
     "execution_count": 67,
     "metadata": {},
     "output_type": "execute_result"
    }
   ],
   "source": [
    "pd.DataFrame.from_dict(cv.cv_results_)"
   ]
  },
  {
   "cell_type": "code",
   "execution_count": 61,
   "metadata": {},
   "outputs": [
    {
     "data": {
      "text/plain": [
       "array([0, 0, 0, 1, 1, 0, 0, 0, 1, 0, 0, 1, 1, 1, 0, 0, 0, 0, 1, 0, 1, 0,\n",
       "       1, 0, 1, 0, 1, 1, 1, 0, 1, 0, 1, 0, 0, 1, 0, 1, 0, 0, 0, 1, 1, 1,\n",
       "       1, 0, 1, 0, 1, 1, 1, 0, 1, 0, 0, 0, 0, 1, 0, 0, 1, 1, 1, 1, 0, 0,\n",
       "       1, 0, 1, 1, 0, 1, 1, 0, 0, 1, 1, 0, 1, 0, 0, 1, 1, 0, 0, 0, 1, 1,\n",
       "       1, 1, 1, 1, 1, 0, 0, 0, 0, 1, 0, 1])"
      ]
     },
     "execution_count": 61,
     "metadata": {},
     "output_type": "execute_result"
    }
   ],
   "source": [
    "y"
   ]
  },
  {
   "cell_type": "code",
   "execution_count": null,
   "metadata": {},
   "outputs": [],
   "source": []
  }
 ],
 "metadata": {
  "kernelspec": {
   "display_name": "Python 3.9.9 64-bit",
   "language": "python",
   "name": "python3"
  },
  "language_info": {
   "codemirror_mode": {
    "name": "ipython",
    "version": 3
   },
   "file_extension": ".py",
   "mimetype": "text/x-python",
   "name": "python",
   "nbconvert_exporter": "python",
   "pygments_lexer": "ipython3",
   "version": "3.9.9"
  },
  "orig_nbformat": 4,
  "vscode": {
   "interpreter": {
    "hash": "949777d72b0d2535278d3dc13498b2535136f6dfe0678499012e853ee9abcab1"
   }
  }
 },
 "nbformat": 4,
 "nbformat_minor": 2
}
