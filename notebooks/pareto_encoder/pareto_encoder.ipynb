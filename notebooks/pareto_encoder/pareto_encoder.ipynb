{
 "cells": [
  {
   "cell_type": "code",
   "execution_count": 6,
   "source": [
    "from collections.abc import Iterable\n",
    "import numpy as np\n",
    "import pandas as pd\n",
    "\n",
    "def pareto_encoder(array: Iterable, top_pct_obs: float=0.8\n",
    "                                ,top_pct_cat: float=0.2):\n",
    "    \"\"\"Truncates data according to the proportion of a categorical column\n",
    "\n",
    "    Args:\n",
    "        array (Iterable): 1d array containing categories\n",
    "        top_pct_obs (float): Top percent observations. Defaults to 0.8\n",
    "        top_pct_cat (float): Top percent categories. Defaults to 0.2\n",
    "\n",
    "    Returns:\n",
    "        (Iterable, pd.DataFrame): 1d array with most frequent categories and \n",
    "                                    summary statistics\n",
    "\n",
    "    References:\n",
    "        [1] https://hsteinshiromoto.github.io/posts/2020/06/25/find_row_closest_value_to_input\n",
    "\n",
    "    Example:\n",
    "        >>> s = (np.random.pareto(3, 1000) + 1) * 2\n",
    "        >>> output, stats = get_high_frequency_categories(s)\n",
    "    \"\"\"\n",
    "    unique, counts = np.unique(array, return_counts=True)\n",
    "    grouped = pd.DataFrame.from_dict({\"category\": unique\n",
    "                                    ,\"n_observations\": counts\n",
    "                                    })\n",
    "    grouped.sort_values(by=\"n_observations\", ascending=False, inplace=True)\n",
    "    grouped[\"n_observations_proportions\"] = grouped[\"n_observations\"] / grouped[\"n_observations\"].sum()\n",
    "    grouped[\"cum_n_observations_proportions\"] = grouped[\"n_observations_proportions\"].cumsum()\n",
    "    grouped[\"cum_n_categories_proportions\"] = np.linspace(1.0/float(grouped.shape[0]), 1, grouped.shape[0])\n",
    "    grouped.reset_index(inplace=True, drop=True)\n",
    "\n",
    "    if (top_pct_obs > 0) & (top_pct_cat > 0):\n",
    "        subset = grouped[\"cum_n_observations_proportions\"] + grouped[\"cum_n_categories_proportions\"]\n",
    "        threshold = top_pct_obs + top_pct_cat\n",
    "\n",
    "        # Get row containing values closed to a value [1]\n",
    "        idx = subset.sub(threshold).abs().idxmin()\n",
    "\n",
    "    elif (top_pct_obs > 0):\n",
    "        idx = grouped[\"cum_n_observations_proportions\"].sub(top_pct_obs).abs().idxmin()\n",
    "\n",
    "    elif (top_pct_cat > 0):\n",
    "        idx = grouped[\"cum_n_categories_proportions\"].sub(top_pct_cat).abs().idxmin()\n",
    "\n",
    "    grouped.loc[idx+1, \"category\"] = \"other categories\"\n",
    "    grouped.loc[idx+1, \"cum_n_observations_proportions\"] = 1\n",
    "\n",
    "    grouped.loc[idx+1, \"n_observations\"] = grouped.loc[idx:, \"n_observations\"].sum()\n",
    "    grouped.loc[idx+1, \"n_observations_proportions\"] = grouped.loc[idx:, \"n_observations_proportions\"].sum()\n",
    "\n",
    "    return grouped.loc[:idx+1, \"category\"].values, grouped.loc[:idx+1, :]"
   ],
   "outputs": [],
   "metadata": {}
  },
  {
   "cell_type": "code",
   "execution_count": 26,
   "source": [
    "a, m = 5., 5.  # shape and mode\n",
    "s = (np.random.pareto(a, 10000) + 1) * m\n",
    "counts, bins_edges = np.histogram(s)\n",
    "array = np.digitize(s, bins_edges, right=True)"
   ],
   "outputs": [],
   "metadata": {}
  },
  {
   "cell_type": "code",
   "execution_count": 32,
   "source": [
    "categories, stats_summary = pareto_encoder(array)\n",
    "print(categories)\n",
    "print(stats_summary)"
   ],
   "outputs": [
    {
     "output_type": "stream",
     "name": "stdout",
     "text": [
      "[1 'other categories']\n",
      "           category  n_observations  n_observations_proportions  \\\n",
      "0                 1            9195                      0.9195   \n",
      "1  other categories           10000                      1.0000   \n",
      "\n",
      "   cum_n_observations_proportions  cum_n_categories_proportions  \n",
      "0                          0.9195                           0.1  \n",
      "1                          1.0000                           0.2  \n"
     ]
    }
   ],
   "metadata": {}
  },
  {
   "cell_type": "code",
   "execution_count": null,
   "source": [],
   "outputs": [],
   "metadata": {}
  }
 ],
 "metadata": {
  "orig_nbformat": 4,
  "language_info": {
   "name": "python",
   "version": "3.9.7",
   "mimetype": "text/x-python",
   "codemirror_mode": {
    "name": "ipython",
    "version": 3
   },
   "pygments_lexer": "ipython3",
   "nbconvert_exporter": "python",
   "file_extension": ".py"
  },
  "kernelspec": {
   "name": "python3",
   "display_name": "Python 3.9.7 64-bit"
  },
  "interpreter": {
   "hash": "4cd7ab41f5fca4b9b44701077e38c5ffd31fe66a6cab21e0214b68d958d0e462"
  }
 },
 "nbformat": 4,
 "nbformat_minor": 2
}