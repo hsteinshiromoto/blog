{
 "metadata": {
  "language_info": {
   "codemirror_mode": {
    "name": "ipython",
    "version": 3
   },
   "file_extension": ".py",
   "mimetype": "text/x-python",
   "name": "python",
   "nbconvert_exporter": "python",
   "pygments_lexer": "ipython3",
   "version": "3.7.3-final"
  },
  "orig_nbformat": 2,
  "kernelspec": {
   "name": "python3",
   "display_name": "Python 3"
  }
 },
 "nbformat": 4,
 "nbformat_minor": 2,
 "cells": [
  {
   "cell_type": "code",
   "execution_count": 2,
   "metadata": {},
   "outputs": [],
   "source": [
    "import dask.dataframe"
   ]
  },
  {
   "cell_type": "code",
   "execution_count": 3,
   "metadata": {},
   "outputs": [],
   "source": [
    "def filter_nulls(data: dask.dataframe, nulls_threshold: float):\n",
    "\n",
    "    summary_df = data.isnull().sum().compute()\n",
    "    summary_df = summary_df.to_frame(name=\"Volume\")\n",
    "    summary_df[\"Proportions\"] = summary_df[\"Volume\"] / data.shape[0].compute()\n",
    "    summary_df.sort_values(by=\"Volume\", ascending=False, inplace=True)\n",
    "\n",
    "    mask_nulls = summary_df[\"Proportions\"] > nulls_threshold\n",
    "    summary_df.loc[mask_nulls, \"Removed\"]  = 1\n",
    "    summary_df.loc[~mask_nulls, \"Removed\"]  = 0\n",
    "    \n",
    "    removed_cols = list(summary_df[mask_nulls].index.values)\n",
    "\n",
    "    return data.drop(columns=removed_cols), summary_df"
   ]
  },
  {
   "cell_type": "code",
   "execution_count": 4,
   "metadata": {},
   "outputs": [],
   "source": [
    "def filter_numerical_variance(data: dask.dataframe, variance_thresholds: list):\n",
    "\n",
    "    summary_df = data.select_dtypes(include=[np.number]).describe().compute()\n",
    "    summary_df = summary_df.T.reset_index()\n",
    "    summary_df.rename(columns={\"index\": \"column_name\"}, inplace=True)\n",
    "    summary_df.sort_values(by=\"column_name\", inplace=True)\n",
    "\n",
    "    thresholds = [float(value) for value in variance_thresholds]\n",
    "    mask_variance = summary_df[\"std\"].between(min(thresholds), max(thresholds))\n",
    "\n",
    "    removed_cols = list(summary_df.loc[~mask_variance, \"column_name\"].values)\n",
    "    mask_removed = summary_df[\"column_name\"].isin(removed_cols)\n",
    "    \n",
    "    summary_df.loc[mask_removed, \"Removed\"]  = 1\n",
    "    summary_df.loc[~mask_removed, \"Removed\"]  = 0\n",
    "    \n",
    "    return data.drop(columns=removed_cols), summary_df"
   ]
  },
  {
   "cell_type": "code",
   "execution_count": 5,
   "metadata": {},
   "outputs": [],
   "source": [
    "def filter_categorical_variance(data: dask.dataframe, variance_thresholds: list):\n",
    "\n",
    "    summary_df = data.select_dtypes(exclude=[np.number], include=[\"object\"]).describe().compute()\n",
    "    summary_df = summary_df.T.reset_index()\n",
    "    summary_df.rename(columns={\"index\": \"column_name\"}, inplace=True)\n",
    "    summary_df.sort_values(by=\"column_name\", inplace=True)\n",
    "    summary_df[\"unique_proportion\"] = summary_df[\"unique\"] / summary_df[\"count\"]\n",
    "    summary_df.sort_values(by=\"unique_proportion\", ascending=False, inplace=True)\n",
    "\n",
    "    thresholds = [float(value) for value in variance_thresholds]\n",
    "    mask_variance = summary_df[\"unique_proportion\"].between(min(thresholds), max(thresholds))\n",
    "    removed_cols = list(summary_df.loc[~mask_variance, \"column_name\"].values)\n",
    "    mask_removed = summary_df[\"column_name\"].isin(removed_cols)\n",
    "    summary_df.loc[mask_removed, \"Removed\"]  = 1\n",
    "    summary_df.loc[~mask_removed, \"Removed\"]  = 0\n",
    "    \n",
    "    return data.drop(columns=removed_cols), summary_df"
   ]
  },
  {
   "cell_type": "code",
   "execution_count": null,
   "metadata": {},
   "outputs": [],
   "source": []
  }
 ]
}