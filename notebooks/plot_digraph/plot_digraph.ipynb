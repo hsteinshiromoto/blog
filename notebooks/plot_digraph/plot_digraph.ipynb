{
 "cells": [
  {
   "cell_type": "code",
   "execution_count": 1,
   "source": [
    "import numpy as np"
   ],
   "outputs": [],
   "metadata": {}
  },
  {
   "cell_type": "code",
   "execution_count": 48,
   "source": [
    "n_nodes = 4\n",
    "nodes = list(range(n_nodes))\n",
    "M = np.random.rand(n_nodes, n_nodes)"
   ],
   "outputs": [],
   "metadata": {}
  },
  {
   "cell_type": "code",
   "execution_count": 49,
   "source": [
    "def make_edges(M):\n",
    "    edges = []\n",
    "    for i in range(M.shape[0]):\n",
    "        for j in range(M.shape[1]):\n",
    "            edges.append((i, j, M[i, j]))\n",
    "    return edges"
   ],
   "outputs": [],
   "metadata": {}
  },
  {
   "cell_type": "code",
   "execution_count": 50,
   "source": [
    "def make_graph(G, nodes, M):\n",
    "    G.add_nodes_from(nodes)\n",
    "    G.add_edges_from(make_edges(M))\n",
    "\n",
    "    return G"
   ],
   "outputs": [],
   "metadata": {}
  },
  {
   "cell_type": "code",
   "execution_count": 52,
   "source": [
    "edges = make_edges(M)\n",
    "G = nx.MultiDiGraph()\n",
    "G = make_graph(G, nodes, M)\n"
   ],
   "outputs": [],
   "metadata": {}
  },
  {
   "cell_type": "code",
   "execution_count": 26,
   "source": [
    "G.number_of_edges()"
   ],
   "outputs": [
    {
     "output_type": "execute_result",
     "data": {
      "text/plain": [
       "16"
      ]
     },
     "metadata": {},
     "execution_count": 26
    }
   ],
   "metadata": {}
  },
  {
   "cell_type": "code",
   "execution_count": 39,
   "source": [
    "hist, bin_edges = np.histogram(M.flatten(), bins=5)\n",
    "print(hist)\n",
    "print(bin_edges)"
   ],
   "outputs": [
    {
     "output_type": "stream",
     "name": "stdout",
     "text": [
      "[2 2 3 5 4]\n",
      "[0.04398038 0.22891057 0.41384077 0.59877096 0.78370115 0.96863134]\n"
     ]
    }
   ],
   "metadata": {}
  },
  {
   "cell_type": "code",
   "execution_count": 54,
   "source": [
    "nx.get_edge_attributes(G,'weight').items()"
   ],
   "outputs": [
    {
     "output_type": "execute_result",
     "data": {
      "text/plain": [
       "dict_items([])"
      ]
     },
     "metadata": {},
     "execution_count": 54
    }
   ],
   "metadata": {}
  },
  {
   "cell_type": "code",
   "execution_count": 53,
   "source": [
    "import matplotlib as mpl\n",
    "import matplotlib.pyplot as plt\n",
    "import networkx as nx\n",
    "\n",
    "seed = 13648  # Seed random number generators for reproducibility\n",
    "pos = nx.spring_layout(G, seed=seed)\n",
    "edges,weights = zip(*nx.get_edge_attributes(G,'weight').items())\n",
    "nx.draw(G, pos, edgelist=edges, edge_color=weights, width=10.0, edge_cmap=plt.cm.plasma)\n",
    "\n",
    "ax = plt.gca()\n",
    "ax.set_axis_off()\n",
    "plt.show()"
   ],
   "outputs": [
    {
     "output_type": "error",
     "ename": "ValueError",
     "evalue": "not enough values to unpack (expected 2, got 0)",
     "traceback": [
      "\u001b[0;31m---------------------------------------------------------------------------\u001b[0m",
      "\u001b[0;31mValueError\u001b[0m                                Traceback (most recent call last)",
      "\u001b[0;32m/tmp/ipykernel_87489/391352578.py\u001b[0m in \u001b[0;36m<module>\u001b[0;34m\u001b[0m\n\u001b[1;32m      5\u001b[0m \u001b[0mseed\u001b[0m \u001b[0;34m=\u001b[0m \u001b[0;36m13648\u001b[0m  \u001b[0;31m# Seed random number generators for reproducibility\u001b[0m\u001b[0;34m\u001b[0m\u001b[0;34m\u001b[0m\u001b[0m\n\u001b[1;32m      6\u001b[0m \u001b[0mpos\u001b[0m \u001b[0;34m=\u001b[0m \u001b[0mnx\u001b[0m\u001b[0;34m.\u001b[0m\u001b[0mspring_layout\u001b[0m\u001b[0;34m(\u001b[0m\u001b[0mG\u001b[0m\u001b[0;34m,\u001b[0m \u001b[0mseed\u001b[0m\u001b[0;34m=\u001b[0m\u001b[0mseed\u001b[0m\u001b[0;34m)\u001b[0m\u001b[0;34m\u001b[0m\u001b[0;34m\u001b[0m\u001b[0m\n\u001b[0;32m----> 7\u001b[0;31m \u001b[0medges\u001b[0m\u001b[0;34m,\u001b[0m\u001b[0mweights\u001b[0m \u001b[0;34m=\u001b[0m \u001b[0mzip\u001b[0m\u001b[0;34m(\u001b[0m\u001b[0;34m*\u001b[0m\u001b[0mnx\u001b[0m\u001b[0;34m.\u001b[0m\u001b[0mget_edge_attributes\u001b[0m\u001b[0;34m(\u001b[0m\u001b[0mG\u001b[0m\u001b[0;34m,\u001b[0m\u001b[0;34m'weight'\u001b[0m\u001b[0;34m)\u001b[0m\u001b[0;34m.\u001b[0m\u001b[0mitems\u001b[0m\u001b[0;34m(\u001b[0m\u001b[0;34m)\u001b[0m\u001b[0;34m)\u001b[0m\u001b[0;34m\u001b[0m\u001b[0;34m\u001b[0m\u001b[0m\n\u001b[0m\u001b[1;32m      8\u001b[0m \u001b[0mnx\u001b[0m\u001b[0;34m.\u001b[0m\u001b[0mdraw\u001b[0m\u001b[0;34m(\u001b[0m\u001b[0mG\u001b[0m\u001b[0;34m,\u001b[0m \u001b[0mpos\u001b[0m\u001b[0;34m,\u001b[0m \u001b[0medgelist\u001b[0m\u001b[0;34m=\u001b[0m\u001b[0medges\u001b[0m\u001b[0;34m,\u001b[0m \u001b[0medge_color\u001b[0m\u001b[0;34m=\u001b[0m\u001b[0mweights\u001b[0m\u001b[0;34m,\u001b[0m \u001b[0mwidth\u001b[0m\u001b[0;34m=\u001b[0m\u001b[0;36m10.0\u001b[0m\u001b[0;34m,\u001b[0m \u001b[0medge_cmap\u001b[0m\u001b[0;34m=\u001b[0m\u001b[0mplt\u001b[0m\u001b[0;34m.\u001b[0m\u001b[0mcm\u001b[0m\u001b[0;34m.\u001b[0m\u001b[0mplasma\u001b[0m\u001b[0;34m)\u001b[0m\u001b[0;34m\u001b[0m\u001b[0;34m\u001b[0m\u001b[0m\n\u001b[1;32m      9\u001b[0m \u001b[0;34m\u001b[0m\u001b[0m\n",
      "\u001b[0;31mValueError\u001b[0m: not enough values to unpack (expected 2, got 0)"
     ]
    }
   ],
   "metadata": {}
  },
  {
   "cell_type": "code",
   "execution_count": 46,
   "source": [
    "make_edges(M)"
   ],
   "outputs": [
    {
     "output_type": "execute_result",
     "data": {
      "text/plain": [
       "[(0, 0, 0.1799368922511826),\n",
       " (0, 1, 0.9554606581571167),\n",
       " (0, 2, 0.9297116834059783),\n",
       " (0, 3, 0.7694838873684321),\n",
       " (1, 0, 0.6860663211503091),\n",
       " (1, 1, 0.6747779322829854),\n",
       " (1, 2, 0.8336491393478077),\n",
       " (1, 3, 0.04398038178027408),\n",
       " (2, 0, 0.5274796736830434),\n",
       " (2, 1, 0.2501232287006241),\n",
       " (2, 2, 0.6889332552844285),\n",
       " (2, 3, 0.7733676055131793),\n",
       " (3, 0, 0.573561568037269),\n",
       " (3, 1, 0.29636532614855804),\n",
       " (3, 2, 0.45241875374700646),\n",
       " (3, 3, 0.9686313438536825)]"
      ]
     },
     "metadata": {},
     "execution_count": 46
    }
   ],
   "metadata": {}
  },
  {
   "cell_type": "code",
   "execution_count": 56,
   "source": [
    "# Src: https://stackoverflow.com/questions/22967086/colouring-edges-by-weight-in-networkx\n",
    "\n",
    "import matplotlib.pyplot as plt\n",
    "import networkx as nx\n",
    "import random\n",
    "\n",
    "G = nx.gnp_random_graph(10,0.3)\n",
    "for u,v,d in G.edges(data=True):\n",
    "    d['weight'] = random.random()\n",
    "\n",
    "edges,weights = zip(*nx.get_edge_attributes(G,'weight').items())\n",
    "\n",
    "pos = nx.spring_layout(G)\n",
    "nx.draw(G, pos, node_color='b', edgelist=edges, edge_color=weights, width=10.0, edge_cmap=plt.cm.plasma)"
   ],
   "outputs": [
    {
     "output_type": "display_data",
     "data": {
      "text/plain": [
       "<Figure size 432x288 with 1 Axes>"
      ],
      "image/svg+xml": "<?xml version=\"1.0\" encoding=\"utf-8\" standalone=\"no\"?>\n<!DOCTYPE svg PUBLIC \"-//W3C//DTD SVG 1.1//EN\"\n  \"http://www.w3.org/Graphics/SVG/1.1/DTD/svg11.dtd\">\n<svg height=\"302.4pt\" version=\"1.1\" viewBox=\"0 0 446.4 302.4\" width=\"446.4pt\" xmlns=\"http://www.w3.org/2000/svg\" xmlns:xlink=\"http://www.w3.org/1999/xlink\">\n <metadata>\n  <rdf:RDF xmlns:cc=\"http://creativecommons.org/ns#\" xmlns:dc=\"http://purl.org/dc/elements/1.1/\" xmlns:rdf=\"http://www.w3.org/1999/02/22-rdf-syntax-ns#\">\n   <cc:Work>\n    <dc:type rdf:resource=\"http://purl.org/dc/dcmitype/StillImage\"/>\n    <dc:date>2021-08-31T22:14:56.944258</dc:date>\n    <dc:format>image/svg+xml</dc:format>\n    <dc:creator>\n     <cc:Agent>\n      <dc:title>Matplotlib v3.4.2, https://matplotlib.org/</dc:title>\n     </cc:Agent>\n    </dc:creator>\n   </cc:Work>\n  </rdf:RDF>\n </metadata>\n <defs>\n  <style type=\"text/css\">*{stroke-linecap:butt;stroke-linejoin:round;}</style>\n </defs>\n <g id=\"figure_1\">\n  <g id=\"patch_1\">\n   <path d=\"M 0 302.4 \nL 446.4 302.4 \nL 446.4 0 \nL 0 0 \nz\n\" style=\"fill:#ffffff;\"/>\n  </g>\n  <g id=\"axes_1\">\n   <g id=\"LineCollection_1\">\n    <path clip-path=\"url(#p2b3bce4a90)\" d=\"M 94.188315 68.509974 \nL 139.363921 93.556152 \n\" style=\"fill:none;stroke:#fdb22f;stroke-width:10;\"/>\n    <path clip-path=\"url(#p2b3bce4a90)\" d=\"M 94.188315 68.509974 \nL 175.794345 62.540096 \n\" style=\"fill:none;stroke:#fba139;stroke-width:10;\"/>\n    <path clip-path=\"url(#p2b3bce4a90)\" d=\"M 318.369465 87.024994 \nL 311.959892 102.467266 \n\" style=\"fill:none;stroke:#fbd324;stroke-width:10;\"/>\n    <path clip-path=\"url(#p2b3bce4a90)\" d=\"M 308.948533 61.987676 \nL 311.959892 102.467266 \n\" style=\"fill:none;stroke:#d04d73;stroke-width:10;\"/>\n    <path clip-path=\"url(#p2b3bce4a90)\" d=\"M 308.948533 61.987676 \nL 175.794345 62.540096 \n\" style=\"fill:none;stroke:#8b0aa5;stroke-width:10;\"/>\n    <path clip-path=\"url(#p2b3bce4a90)\" d=\"M 250.532858 25.170543 \nL 175.794345 62.540096 \n\" style=\"fill:none;stroke:#a21d9a;stroke-width:10;\"/>\n    <path clip-path=\"url(#p2b3bce4a90)\" d=\"M 250.532858 25.170543 \nL 401.712397 95.027951 \n\" style=\"fill:none;stroke:#0d0887;stroke-width:10;\"/>\n    <path clip-path=\"url(#p2b3bce4a90)\" d=\"M 311.959892 102.467266 \nL 139.363921 93.556152 \n\" style=\"fill:none;stroke:#7401a8;stroke-width:10;\"/>\n    <path clip-path=\"url(#p2b3bce4a90)\" d=\"M 311.959892 102.467266 \nL 401.712397 95.027951 \n\" style=\"fill:none;stroke:#febb2b;stroke-width:10;\"/>\n    <path clip-path=\"url(#p2b3bce4a90)\" d=\"M 44.687603 122.763216 \nL 139.363921 93.556152 \n\" style=\"fill:none;stroke:#c9447a;stroke-width:10;\"/>\n    <path clip-path=\"url(#p2b3bce4a90)\" d=\"M 139.363921 93.556152 \nL 175.794345 62.540096 \n\" style=\"fill:none;stroke:#f0f921;stroke-width:10;\"/>\n   </g>\n   <g id=\"PathCollection_1\">\n    <defs>\n     <path d=\"M 0 8.660254 \nC 2.296726 8.660254 4.499694 7.747755 6.123724 6.123724 \nC 7.747755 4.499694 8.660254 2.296726 8.660254 0 \nC 8.660254 -2.296726 7.747755 -4.499694 6.123724 -6.123724 \nC 4.499694 -7.747755 2.296726 -8.660254 0 -8.660254 \nC -2.296726 -8.660254 -4.499694 -7.747755 -6.123724 -6.123724 \nC -7.747755 -4.499694 -8.660254 -2.296726 -8.660254 0 \nC -8.660254 2.296726 -7.747755 4.499694 -6.123724 6.123724 \nC -4.499694 7.747755 -2.296726 8.660254 0 8.660254 \nz\n\" id=\"m61e84dcf26\" style=\"stroke:#0000ff;\"/>\n    </defs>\n    <g clip-path=\"url(#p2b3bce4a90)\">\n     <use style=\"fill:#0000ff;stroke:#0000ff;\" x=\"207.873402\" xlink:href=\"#m61e84dcf26\" y=\"282.109091\"/>\n     <use style=\"fill:#0000ff;stroke:#0000ff;\" x=\"94.188315\" xlink:href=\"#m61e84dcf26\" y=\"68.509974\"/>\n     <use style=\"fill:#0000ff;stroke:#0000ff;\" x=\"318.369465\" xlink:href=\"#m61e84dcf26\" y=\"87.024994\"/>\n     <use style=\"fill:#0000ff;stroke:#0000ff;\" x=\"308.948533\" xlink:href=\"#m61e84dcf26\" y=\"61.987676\"/>\n     <use style=\"fill:#0000ff;stroke:#0000ff;\" x=\"250.532858\" xlink:href=\"#m61e84dcf26\" y=\"25.170543\"/>\n     <use style=\"fill:#0000ff;stroke:#0000ff;\" x=\"311.959892\" xlink:href=\"#m61e84dcf26\" y=\"102.467266\"/>\n     <use style=\"fill:#0000ff;stroke:#0000ff;\" x=\"44.687603\" xlink:href=\"#m61e84dcf26\" y=\"122.763216\"/>\n     <use style=\"fill:#0000ff;stroke:#0000ff;\" x=\"139.363921\" xlink:href=\"#m61e84dcf26\" y=\"93.556152\"/>\n     <use style=\"fill:#0000ff;stroke:#0000ff;\" x=\"175.794345\" xlink:href=\"#m61e84dcf26\" y=\"62.540096\"/>\n     <use style=\"fill:#0000ff;stroke:#0000ff;\" x=\"401.712397\" xlink:href=\"#m61e84dcf26\" y=\"95.027951\"/>\n    </g>\n   </g>\n  </g>\n </g>\n <defs>\n  <clipPath id=\"p2b3bce4a90\">\n   <rect height=\"288\" width=\"432\" x=\"7.2\" y=\"7.2\"/>\n  </clipPath>\n </defs>\n</svg>\n",
      "image/png": "[encoded data removed]"
     },
     "metadata": {}
    }
   ],
   "metadata": {}
  },
  {
   "cell_type": "code",
   "execution_count": null,
   "source": [],
   "outputs": [],
   "metadata": {}
  }
 ],
 "metadata": {
  "orig_nbformat": 4,
  "language_info": {
   "name": "python",
   "version": "3.9.6",
   "mimetype": "text/x-python",
   "codemirror_mode": {
    "name": "ipython",
    "version": 3
   },
   "pygments_lexer": "ipython3",
   "nbconvert_exporter": "python",
   "file_extension": ".py"
  },
  "kernelspec": {
   "name": "python3",
   "display_name": "Python 3.9.6 64-bit"
  },
  "interpreter": {
   "hash": "4cd7ab41f5fca4b9b44701077e38c5ffd31fe66a6cab21e0214b68d958d0e462"
  }
 },
 "nbformat": 4,
 "nbformat_minor": 2
}