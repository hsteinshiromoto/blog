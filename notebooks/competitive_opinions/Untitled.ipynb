{
 "cells": [
  {
   "cell_type": "code",
   "execution_count": 38,
   "metadata": {
    "ExecuteTime": {
     "end_time": "2020-06-21T23:05:07.178486Z",
     "start_time": "2020-06-21T23:05:06.779274Z"
    }
   },
   "outputs": [
    {
     "name": "stdout",
     "output_type": "stream",
     "text": [
      "The autoreload extension is already loaded. To reload it, use:\n",
      "  %reload_ext autoreload\n"
     ]
    }
   ],
   "source": [
    "%load_ext autoreload\n",
    "%autoreload 2\n",
    "\n",
    "#Science and Data\n",
    "import pandas as pd\n",
    "import numpy as np\n",
    "import pymc3 as pm\n",
    "from pymc3.ode import DifferentialEquation\n",
    "from scipy.integrate import odeint\n",
    "\n",
    "# Infrastructure\n",
    "from pathlib import Path\n",
    "import sys\n",
    "import os\n",
    "\n",
    "#Plotting Tools\n",
    "import seaborn as sns\n",
    "import matplotlib.pyplot as plt\n",
    "import arviz as az\n",
    "import theano"
   ]
  },
  {
   "cell_type": "markdown",
   "metadata": {},
   "source": [
    "# Epidemiological Example"
   ]
  },
  {
   "cell_type": "code",
   "execution_count": 5,
   "metadata": {
    "ExecuteTime": {
     "end_time": "2020-06-20T03:51:29.542681Z",
     "start_time": "2020-06-20T03:51:29.133156Z"
    }
   },
   "outputs": [
    {
     "data": {
      "image/png": "[encoded data removed]",
      "text/plain": [
       "<Figure size 432x288 with 1 Axes>"
      ]
     },
     "metadata": {
      "needs_background": "light"
     },
     "output_type": "display_data"
    }
   ],
   "source": [
    "def SIR(y, t, p):\n",
    "    ds = -p[0]*y[0]*y[1]\n",
    "    di = p[0]*y[0]*y[1] - p[1]*y[1]\n",
    "    return [ds, di]\n",
    "\n",
    "times = np.arange(0,5,0.25)\n",
    "\n",
    "beta,gamma = 4,1.0\n",
    "# Create true curves\n",
    "y = odeint(SIR, t=times, y0=[0.99, 0.01], args=((beta,gamma),), rtol=1e-8)\n",
    "# Observational model.  Lognormal likelihood isn't appropriate, but we'll do it anyway\n",
    "yobs = np.random.lognormal(mean=np.log(y[1::]), sigma=[0.2, 0.3])\n",
    "\n",
    "\n",
    "plt.plot(times[1::],yobs, marker='o', linestyle='none')\n",
    "plt.plot(times, y[:,0], color='C0', alpha=0.5, label=f'$S(t)$')\n",
    "plt.plot(times, y[:,1], color ='C1', alpha=0.5, label=f'$I(t)$')\n",
    "plt.legend()\n",
    "plt.show()\n"
   ]
  },
  {
   "cell_type": "code",
   "execution_count": 7,
   "metadata": {
    "ExecuteTime": {
     "end_time": "2020-06-20T03:55:45.703178Z",
     "start_time": "2020-06-20T03:54:59.474426Z"
    }
   },
   "outputs": [
    {
     "ename": "AttributeError",
     "evalue": "'Version' object has no attribute 'major'",
     "output_type": "error",
     "traceback": [
      "\u001b[0;31m\u001b[0m",
      "\u001b[0;31mAttributeError\u001b[0mTraceback (most recent call last)",
      "\u001b[0;32m<ipython-input-7-152c71a2330e>\u001b[0m in \u001b[0;36m<module>\u001b[0;34m\u001b[0m\n\u001b[1;32m     20\u001b[0m \u001b[0;34m\u001b[0m\u001b[0m\n\u001b[1;32m     21\u001b[0m     \u001b[0mprior\u001b[0m \u001b[0;34m=\u001b[0m \u001b[0mpm\u001b[0m\u001b[0;34m.\u001b[0m\u001b[0msample_prior_predictive\u001b[0m\u001b[0;34m(\u001b[0m\u001b[0;34m)\u001b[0m\u001b[0;34m\u001b[0m\u001b[0;34m\u001b[0m\u001b[0m\n\u001b[0;32m---> 22\u001b[0;31m     \u001b[0mtrace\u001b[0m \u001b[0;34m=\u001b[0m \u001b[0mpm\u001b[0m\u001b[0;34m.\u001b[0m\u001b[0msample\u001b[0m\u001b[0;34m(\u001b[0m\u001b[0;36m2000\u001b[0m\u001b[0;34m,\u001b[0m \u001b[0mtune\u001b[0m\u001b[0;34m=\u001b[0m\u001b[0;36m1000\u001b[0m\u001b[0;34m,\u001b[0m \u001b[0mtarget_accept\u001b[0m\u001b[0;34m=\u001b[0m\u001b[0;36m0.9\u001b[0m\u001b[0;34m,\u001b[0m \u001b[0mcores\u001b[0m\u001b[0;34m=\u001b[0m\u001b[0;36m1\u001b[0m\u001b[0;34m)\u001b[0m\u001b[0;34m\u001b[0m\u001b[0;34m\u001b[0m\u001b[0m\n\u001b[0m\u001b[1;32m     23\u001b[0m     \u001b[0mposterior_predictive\u001b[0m \u001b[0;34m=\u001b[0m \u001b[0mpm\u001b[0m\u001b[0;34m.\u001b[0m\u001b[0msample_posterior_predictive\u001b[0m\u001b[0;34m(\u001b[0m\u001b[0mtrace\u001b[0m\u001b[0;34m)\u001b[0m\u001b[0;34m\u001b[0m\u001b[0;34m\u001b[0m\u001b[0m\n\u001b[1;32m     24\u001b[0m \u001b[0;34m\u001b[0m\u001b[0m\n",
      "\u001b[0;32m/opt/conda/lib/python3.7/site-packages/pymc3/sampling.py\u001b[0m in \u001b[0;36msample\u001b[0;34m(draws, step, init, n_init, start, trace, chain_idx, chains, cores, tune, progressbar, model, random_seed, discard_tuned_samples, compute_convergence_checks, callback, return_inferencedata, idata_kwargs, **kwargs)\u001b[0m\n\u001b[1;32m    434\u001b[0m     \u001b[0;32mif\u001b[0m \u001b[0mreturn_inferencedata\u001b[0m \u001b[0;32mis\u001b[0m \u001b[0;32mNone\u001b[0m\u001b[0;34m:\u001b[0m\u001b[0;34m\u001b[0m\u001b[0;34m\u001b[0m\u001b[0m\n\u001b[1;32m    435\u001b[0m         \u001b[0mv\u001b[0m \u001b[0;34m=\u001b[0m \u001b[0mpackaging\u001b[0m\u001b[0;34m.\u001b[0m\u001b[0mversion\u001b[0m\u001b[0;34m.\u001b[0m\u001b[0mparse\u001b[0m\u001b[0;34m(\u001b[0m\u001b[0mpm\u001b[0m\u001b[0;34m.\u001b[0m\u001b[0m__version__\u001b[0m\u001b[0;34m)\u001b[0m\u001b[0;34m\u001b[0m\u001b[0;34m\u001b[0m\u001b[0m\n\u001b[0;32m--> 436\u001b[0;31m         \u001b[0;32mif\u001b[0m \u001b[0mv\u001b[0m\u001b[0;34m.\u001b[0m\u001b[0mmajor\u001b[0m \u001b[0;34m>\u001b[0m \u001b[0;36m3\u001b[0m \u001b[0;32mor\u001b[0m \u001b[0mv\u001b[0m\u001b[0;34m.\u001b[0m\u001b[0mminor\u001b[0m \u001b[0;34m>=\u001b[0m \u001b[0;36m10\u001b[0m\u001b[0;34m:\u001b[0m\u001b[0;34m\u001b[0m\u001b[0;34m\u001b[0m\u001b[0m\n\u001b[0m\u001b[1;32m    437\u001b[0m             warnings.warn(\n\u001b[1;32m    438\u001b[0m                 \u001b[0;34m\"In an upcoming release, pm.sample will return an `arviz.InferenceData` object instead of a `MultiTrace` by default. \"\u001b[0m\u001b[0;34m\u001b[0m\u001b[0;34m\u001b[0m\u001b[0m\n",
      "\u001b[0;31mAttributeError\u001b[0m: 'Version' object has no attribute 'major'"
     ]
    }
   ],
   "source": [
    "sir_model = DifferentialEquation(\n",
    "    func=SIR,\n",
    "    times=np.arange(0.25, 5, 0.25),\n",
    "    n_states=2,\n",
    "    n_theta=2,\n",
    "    t0=0,\n",
    ")\n",
    "\n",
    "with pm.Model() as model4:\n",
    "    sigma = pm.HalfCauchy('sigma', 1, shape=2)\n",
    "\n",
    "    # R0 is bounded below by 1 because we see an epidemic has occured\n",
    "    R0 = pm.Bound(pm.Normal, lower=1)('R0', 2,3)\n",
    "    lam = pm.Lognormal('lambda',pm.math.log(2),2)\n",
    "    beta = pm.Deterministic('beta', lam*R0)\n",
    "\n",
    "    sir_curves = sir_model(y0=[0.99, 0.01], theta=[beta, lam])\n",
    "\n",
    "    Y = pm.Lognormal('Y', mu=pm.math.log(sir_curves), sd=sigma, observed=yobs)\n",
    "\n",
    "    prior = pm.sample_prior_predictive()\n",
    "    trace = pm.sample(2000, tune=1000, target_accept=0.9, cores=1)\n",
    "    posterior_predictive = pm.sample_posterior_predictive(trace)\n",
    "\n",
    "    data = az.from_pymc3(trace=trace, prior = prior, posterior_predictive = posterior_predictive)"
   ]
  },
  {
   "cell_type": "markdown",
   "metadata": {},
   "source": [
    "# Competitive Model"
   ]
  },
  {
   "cell_type": "markdown",
   "metadata": {},
   "source": [
    "## Simple Lotka-Volterra"
   ]
  },
  {
   "cell_type": "markdown",
   "metadata": {},
   "source": [
    "src: https://scipy-cookbook.readthedocs.io/items/LoktaVolterraTutorial.html"
   ]
  },
  {
   "cell_type": "code",
   "execution_count": 43,
   "metadata": {
    "ExecuteTime": {
     "end_time": "2020-06-21T23:05:59.782521Z",
     "start_time": "2020-06-21T23:05:59.745402Z"
    }
   },
   "outputs": [],
   "source": [
    "import pylab as p\n",
    "# Definition of parameters\n",
    "a = 1.\n",
    "b = 0.1\n",
    "c = 1.5\n",
    "d = 0.75\n",
    "def f(x, t=0):\n",
    "    \"\"\" Return the growth rate of fox and rabbit populations. \"\"\"\n",
    "    \n",
    "    dx = a*x[0] -   b*x[0]*x[1]\n",
    "    dy = -c*x[1] + d*b*x[0]*x[1]\n",
    "    \n",
    "    return np.array([dx, dy])\n"
   ]
  },
  {
   "cell_type": "code",
   "execution_count": 44,
   "metadata": {
    "ExecuteTime": {
     "end_time": "2020-06-21T23:05:59.970119Z",
     "start_time": "2020-06-21T23:05:59.926249Z"
    }
   },
   "outputs": [
    {
     "data": {
      "text/plain": [
       "'Integration successful.'"
      ]
     },
     "execution_count": 44,
     "metadata": {},
     "output_type": "execute_result"
    }
   ],
   "source": [
    "t = np.linspace(0, 15,  1000)              # time\n",
    "x0 = np.array([10, 5])                     # initials conditions: 10 rabbits and 5 foxes\n",
    "x, infodict = odeint(f, x0, t, full_output=True)\n",
    "infodict['message']                     # >>> 'Integration successful.'"
   ]
  },
  {
   "cell_type": "code",
   "execution_count": 45,
   "metadata": {
    "ExecuteTime": {
     "end_time": "2020-06-21T23:06:06.356834Z",
     "start_time": "2020-06-21T23:06:06.122601Z"
    }
   },
   "outputs": [
    {
     "data": {
      "text/plain": [
       "Text(0.5, 1.0, 'Evolution of fox and rabbit populations')"
      ]
     },
     "execution_count": 45,
     "metadata": {},
     "output_type": "execute_result"
    },
    {
     "data": {
      "image/png": "[encoded data removed]",
      "text/plain": [
       "<Figure size 432x288 with 1 Axes>"
      ]
     },
     "metadata": {
      "needs_background": "light"
     },
     "output_type": "display_data"
    }
   ],
   "source": [
    "rabbits, foxes = x.T\n",
    "f1 = p.figure()\n",
    "p.plot(t, rabbits, 'r-', label='Rabbits')\n",
    "p.plot(t, foxes  , 'b-', label='Foxes')\n",
    "p.grid()\n",
    "p.legend(loc='best')\n",
    "p.xlabel('time')\n",
    "p.ylabel('population')\n",
    "p.title('Evolution of fox and rabbit populations')\n",
    "# f1.savefig('rabbits_and_foxes_1.png')\n"
   ]
  },
  {
   "cell_type": "markdown",
   "metadata": {},
   "source": [
    "## Competitive Lotka–Volterra equations"
   ]
  },
  {
   "cell_type": "markdown",
   "metadata": {},
   "source": [
    "src:https://en.wikipedia.org/wiki/Competitive_Lotka%E2%80%93Volterra_equations"
   ]
  },
  {
   "cell_type": "code",
   "execution_count": 53,
   "metadata": {
    "ExecuteTime": {
     "end_time": "2020-06-21T23:09:36.608484Z",
     "start_time": "2020-06-21T23:09:36.571544Z"
    }
   },
   "outputs": [],
   "source": [
    "r1, r2, alpha12, alpha21 = 1, 0.72, 1.09, 0\n",
    "K1, K2 = 1, 1\n",
    "def f(x, t=0):\n",
    "    \n",
    "    dx = r1*x[0]*(1.0 - (x[0] + alpha12*x[1])/K1)\n",
    "    dy = r2*x[1]*(1.0 - (x[1] + alpha21*x[0])/K2)\n",
    "    \n",
    "    return [dx, dy]"
   ]
  },
  {
   "cell_type": "code",
   "execution_count": 63,
   "metadata": {
    "ExecuteTime": {
     "end_time": "2020-06-21T23:12:17.625974Z",
     "start_time": "2020-06-21T23:12:17.581776Z"
    }
   },
   "outputs": [],
   "source": [
    "t = np.linspace(0, 15,  1000)\n",
    "x0=np.array([10, 100])\n",
    "\n",
    "# Create true curves\n",
    "x, infodict = odeint(f, x0, t, full_output=True)"
   ]
  },
  {
   "cell_type": "code",
   "execution_count": 64,
   "metadata": {
    "ExecuteTime": {
     "end_time": "2020-06-21T23:12:18.063169Z",
     "start_time": "2020-06-21T23:12:17.874364Z"
    }
   },
   "outputs": [
    {
     "data": {
      "image/png": "[encoded data removed]",
      "text/plain": [
       "<Figure size 432x288 with 1 Axes>"
      ]
     },
     "metadata": {
      "needs_background": "light"
     },
     "output_type": "display_data"
    }
   ],
   "source": [
    "species1, species2 = x.T\n",
    "\n",
    "\n",
    "plt.plot(t, species1, color='C0', alpha=0.5, label=f'species1$(t)$')\n",
    "plt.plot(t, species2, color ='C1', alpha=0.5, label=f'species2$(t)$')\n",
    "plt.legend()\n",
    "plt.show()\n"
   ]
  },
  {
   "cell_type": "code",
   "execution_count": null,
   "metadata": {},
   "outputs": [],
   "source": []
  }
 ],
 "metadata": {
  "kernelspec": {
   "display_name": "Python 3",
   "language": "python",
   "name": "python3"
  },
  "language_info": {
   "codemirror_mode": {
    "name": "ipython",
    "version": 3
   },
   "file_extension": ".py",
   "mimetype": "text/x-python",
   "name": "python",
   "nbconvert_exporter": "python",
   "pygments_lexer": "ipython3",
   "version": "3.7.3"
  },
  "toc": {
   "base_numbering": 1,
   "nav_menu": {},
   "number_sections": true,
   "sideBar": true,
   "skip_h1_title": false,
   "title_cell": "Table of Contents",
   "title_sidebar": "Contents",
   "toc_cell": false,
   "toc_position": {},
   "toc_section_display": true,
   "toc_window_display": false
  }
 },
 "nbformat": 4,
 "nbformat_minor": 2
}
