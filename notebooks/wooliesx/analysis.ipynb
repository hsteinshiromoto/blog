{
 "cells": [
  {
   "cell_type": "code",
   "execution_count": 1,
   "metadata": {},
   "outputs": [],
   "source": [
    "import pandas as pd"
   ]
  },
  {
   "cell_type": "code",
   "execution_count": 2,
   "metadata": {},
   "outputs": [],
   "source": [
    "users = pd.read_csv(\"ielts_users.csv\")\n",
    "notifs = pd.read_csv(\"ielts_notifications.csv\")"
   ]
  },
  {
   "cell_type": "code",
   "execution_count": 5,
   "metadata": {},
   "outputs": [],
   "source": [
    "notifs[\"added_date\"] = pd.to_datetime(notifs[\"added_date\"])"
   ]
  },
  {
   "cell_type": "code",
   "execution_count": 6,
   "metadata": {},
   "outputs": [
    {
     "data": {
      "text/html": [
       "<div>\n",
       "<style scoped>\n",
       "    .dataframe tbody tr th:only-of-type {\n",
       "        vertical-align: middle;\n",
       "    }\n",
       "\n",
       "    .dataframe tbody tr th {\n",
       "        vertical-align: top;\n",
       "    }\n",
       "\n",
       "    .dataframe thead th {\n",
       "        text-align: right;\n",
       "    }\n",
       "</style>\n",
       "<table border=\"1\" class=\"dataframe\">\n",
       "  <thead>\n",
       "    <tr style=\"text-align: right;\">\n",
       "      <th></th>\n",
       "      <th>id</th>\n",
       "      <th>message_mode</th>\n",
       "      <th>user_id</th>\n",
       "      <th>read_status</th>\n",
       "      <th>added_date</th>\n",
       "    </tr>\n",
       "  </thead>\n",
       "  <tbody>\n",
       "    <tr>\n",
       "      <th>0</th>\n",
       "      <td>20363</td>\n",
       "      <td>2</td>\n",
       "      <td>19578</td>\n",
       "      <td>0</td>\n",
       "      <td>2017-01-01 00:15:00</td>\n",
       "    </tr>\n",
       "    <tr>\n",
       "      <th>1</th>\n",
       "      <td>20368</td>\n",
       "      <td>2</td>\n",
       "      <td>19434</td>\n",
       "      <td>0</td>\n",
       "      <td>2017-01-01 01:15:00</td>\n",
       "    </tr>\n",
       "    <tr>\n",
       "      <th>2</th>\n",
       "      <td>20374</td>\n",
       "      <td>1</td>\n",
       "      <td>19697</td>\n",
       "      <td>0</td>\n",
       "      <td>2017-01-01 02:39:00</td>\n",
       "    </tr>\n",
       "    <tr>\n",
       "      <th>3</th>\n",
       "      <td>20375</td>\n",
       "      <td>5</td>\n",
       "      <td>19691</td>\n",
       "      <td>1</td>\n",
       "      <td>2017-01-01 02:45:00</td>\n",
       "    </tr>\n",
       "    <tr>\n",
       "      <th>4</th>\n",
       "      <td>20377</td>\n",
       "      <td>2</td>\n",
       "      <td>19436</td>\n",
       "      <td>0</td>\n",
       "      <td>2017-01-01 03:15:00</td>\n",
       "    </tr>\n",
       "    <tr>\n",
       "      <th>...</th>\n",
       "      <td>...</td>\n",
       "      <td>...</td>\n",
       "      <td>...</td>\n",
       "      <td>...</td>\n",
       "      <td>...</td>\n",
       "    </tr>\n",
       "    <tr>\n",
       "      <th>50210</th>\n",
       "      <td>223285</td>\n",
       "      <td>2</td>\n",
       "      <td>84175</td>\n",
       "      <td>0</td>\n",
       "      <td>2019-03-31 22:45:00</td>\n",
       "    </tr>\n",
       "    <tr>\n",
       "      <th>50211</th>\n",
       "      <td>223289</td>\n",
       "      <td>2</td>\n",
       "      <td>84604</td>\n",
       "      <td>0</td>\n",
       "      <td>2019-03-31 23:00:00</td>\n",
       "    </tr>\n",
       "    <tr>\n",
       "      <th>50212</th>\n",
       "      <td>223295</td>\n",
       "      <td>2</td>\n",
       "      <td>84608</td>\n",
       "      <td>0</td>\n",
       "      <td>2019-03-31 23:15:00</td>\n",
       "    </tr>\n",
       "    <tr>\n",
       "      <th>50213</th>\n",
       "      <td>223300</td>\n",
       "      <td>2</td>\n",
       "      <td>84180</td>\n",
       "      <td>0</td>\n",
       "      <td>2019-03-31 23:45:00</td>\n",
       "    </tr>\n",
       "    <tr>\n",
       "      <th>50214</th>\n",
       "      <td>223303</td>\n",
       "      <td>1</td>\n",
       "      <td>84914</td>\n",
       "      <td>0</td>\n",
       "      <td>2019-03-31 23:59:00</td>\n",
       "    </tr>\n",
       "  </tbody>\n",
       "</table>\n",
       "<p>50215 rows × 5 columns</p>\n",
       "</div>"
      ],
      "text/plain": [
       "           id  message_mode  user_id  read_status          added_date\n",
       "0       20363             2    19578            0 2017-01-01 00:15:00\n",
       "1       20368             2    19434            0 2017-01-01 01:15:00\n",
       "2       20374             1    19697            0 2017-01-01 02:39:00\n",
       "3       20375             5    19691            1 2017-01-01 02:45:00\n",
       "4       20377             2    19436            0 2017-01-01 03:15:00\n",
       "...       ...           ...      ...          ...                 ...\n",
       "50210  223285             2    84175            0 2019-03-31 22:45:00\n",
       "50211  223289             2    84604            0 2019-03-31 23:00:00\n",
       "50212  223295             2    84608            0 2019-03-31 23:15:00\n",
       "50213  223300             2    84180            0 2019-03-31 23:45:00\n",
       "50214  223303             1    84914            0 2019-03-31 23:59:00\n",
       "\n",
       "[50215 rows x 5 columns]"
      ]
     },
     "execution_count": 6,
     "metadata": {},
     "output_type": "execute_result"
    }
   ],
   "source": [
    "notifs"
   ]
  },
  {
   "cell_type": "code",
   "execution_count": 9,
   "metadata": {},
   "outputs": [],
   "source": [
    "# users[\"buy_now_clicked_date\"] = pd.to_datetime(users[\"buy_now_clicked_date\"])\n",
    "# # users[\"registration_date\"] = pd.to_datetime(users[\"registration_date\"])"
   ]
  },
  {
   "cell_type": "code",
   "execution_count": 76,
   "metadata": {},
   "outputs": [
    {
     "name": "stderr",
     "output_type": "stream",
     "text": [
      "/tmp/ipykernel_3261/2912072111.py:2: SettingWithCopyWarning: \n",
      "A value is trying to be set on a copy of a slice from a DataFrame.\n",
      "Try using .loc[row_indexer,col_indexer] = value instead\n",
      "\n",
      "See the caveats in the documentation: https://pandas.pydata.org/pandas-docs/stable/user_guide/indexing.html#returning-a-view-versus-a-copy\n",
      "  subset_clicked[\"buy_now_clicked_date\"] = pd.to_datetime(subset_clicked[\"buy_now_clicked_date\"])\n"
     ]
    },
    {
     "data": {
      "text/html": [
       "<div>\n",
       "<style scoped>\n",
       "    .dataframe tbody tr th:only-of-type {\n",
       "        vertical-align: middle;\n",
       "    }\n",
       "\n",
       "    .dataframe tbody tr th {\n",
       "        vertical-align: top;\n",
       "    }\n",
       "\n",
       "    .dataframe thead th {\n",
       "        text-align: right;\n",
       "    }\n",
       "</style>\n",
       "<table border=\"1\" class=\"dataframe\">\n",
       "  <thead>\n",
       "    <tr style=\"text-align: right;\">\n",
       "      <th></th>\n",
       "      <th>access_level</th>\n",
       "      <th>age</th>\n",
       "      <th>buy_now_clicked</th>\n",
       "      <th>buy_now_clicked_date</th>\n",
       "      <th>chosen_package</th>\n",
       "      <th>degree</th>\n",
       "      <th>gender</th>\n",
       "      <th>last_login</th>\n",
       "      <th>oauth_provider</th>\n",
       "      <th>registration_date</th>\n",
       "      <th>status</th>\n",
       "      <th>user_id</th>\n",
       "      <th>user_type</th>\n",
       "      <th>registration_date_year</th>\n",
       "      <th>cost</th>\n",
       "      <th>fb_cost</th>\n",
       "    </tr>\n",
       "  </thead>\n",
       "  <tbody>\n",
       "    <tr>\n",
       "      <th>5</th>\n",
       "      <td>0</td>\n",
       "      <td>NaN</td>\n",
       "      <td>1</td>\n",
       "      <td>2017-02-01 06:36:00</td>\n",
       "      <td>bronze</td>\n",
       "      <td>NaN</td>\n",
       "      <td>NaN</td>\n",
       "      <td>1.483299e+09</td>\n",
       "      <td>NaN</td>\n",
       "      <td>2017-01-01 09:23:00</td>\n",
       "      <td>1</td>\n",
       "      <td>19722</td>\n",
       "      <td>0</td>\n",
       "      <td>2017</td>\n",
       "      <td>2.5</td>\n",
       "      <td>NaN</td>\n",
       "    </tr>\n",
       "    <tr>\n",
       "      <th>7</th>\n",
       "      <td>0</td>\n",
       "      <td>NaN</td>\n",
       "      <td>1</td>\n",
       "      <td>2017-01-21 22:30:00</td>\n",
       "      <td>silver</td>\n",
       "      <td>NaN</td>\n",
       "      <td>NaN</td>\n",
       "      <td>1.516419e+09</td>\n",
       "      <td>NaN</td>\n",
       "      <td>2017-01-01 17:59:00</td>\n",
       "      <td>1</td>\n",
       "      <td>19738</td>\n",
       "      <td>0</td>\n",
       "      <td>2017</td>\n",
       "      <td>2.5</td>\n",
       "      <td>NaN</td>\n",
       "    </tr>\n",
       "    <tr>\n",
       "      <th>13</th>\n",
       "      <td>0</td>\n",
       "      <td>NaN</td>\n",
       "      <td>1</td>\n",
       "      <td>2017-03-01 03:44:00</td>\n",
       "      <td>gold</td>\n",
       "      <td>NaN</td>\n",
       "      <td>NaN</td>\n",
       "      <td>1.537391e+09</td>\n",
       "      <td>NaN</td>\n",
       "      <td>2017-02-01 08:16:00</td>\n",
       "      <td>1</td>\n",
       "      <td>19765</td>\n",
       "      <td>0</td>\n",
       "      <td>2017</td>\n",
       "      <td>2.5</td>\n",
       "      <td>NaN</td>\n",
       "    </tr>\n",
       "    <tr>\n",
       "      <th>15</th>\n",
       "      <td>0</td>\n",
       "      <td>NaN</td>\n",
       "      <td>1</td>\n",
       "      <td>2017-04-01 10:40:00</td>\n",
       "      <td>bronze</td>\n",
       "      <td>NaN</td>\n",
       "      <td>Male</td>\n",
       "      <td>1.483576e+09</td>\n",
       "      <td>NaN</td>\n",
       "      <td>2017-02-01 20:25:00</td>\n",
       "      <td>1</td>\n",
       "      <td>19775</td>\n",
       "      <td>0</td>\n",
       "      <td>2017</td>\n",
       "      <td>2.5</td>\n",
       "      <td>NaN</td>\n",
       "    </tr>\n",
       "    <tr>\n",
       "      <th>38</th>\n",
       "      <td>0</td>\n",
       "      <td>NaN</td>\n",
       "      <td>1</td>\n",
       "      <td>2017-02-16 21:29:00</td>\n",
       "      <td>bronze</td>\n",
       "      <td>NaN</td>\n",
       "      <td>NaN</td>\n",
       "      <td>NaN</td>\n",
       "      <td>NaN</td>\n",
       "      <td>2017-04-01 14:49:00</td>\n",
       "      <td>1</td>\n",
       "      <td>19878</td>\n",
       "      <td>0</td>\n",
       "      <td>2017</td>\n",
       "      <td>2.5</td>\n",
       "      <td>NaN</td>\n",
       "    </tr>\n",
       "    <tr>\n",
       "      <th>...</th>\n",
       "      <td>...</td>\n",
       "      <td>...</td>\n",
       "      <td>...</td>\n",
       "      <td>...</td>\n",
       "      <td>...</td>\n",
       "      <td>...</td>\n",
       "      <td>...</td>\n",
       "      <td>...</td>\n",
       "      <td>...</td>\n",
       "      <td>...</td>\n",
       "      <td>...</td>\n",
       "      <td>...</td>\n",
       "      <td>...</td>\n",
       "      <td>...</td>\n",
       "      <td>...</td>\n",
       "      <td>...</td>\n",
       "    </tr>\n",
       "    <tr>\n",
       "      <th>14268</th>\n",
       "      <td>0</td>\n",
       "      <td>NaN</td>\n",
       "      <td>1</td>\n",
       "      <td>2018-12-15 00:26:00</td>\n",
       "      <td>bronze</td>\n",
       "      <td>NaN</td>\n",
       "      <td>Male</td>\n",
       "      <td>NaN</td>\n",
       "      <td>google</td>\n",
       "      <td>2018-12-13 12:54:00</td>\n",
       "      <td>1</td>\n",
       "      <td>77457</td>\n",
       "      <td>2</td>\n",
       "      <td>2018</td>\n",
       "      <td>2.3</td>\n",
       "      <td>NaN</td>\n",
       "    </tr>\n",
       "    <tr>\n",
       "      <th>14270</th>\n",
       "      <td>0</td>\n",
       "      <td>NaN</td>\n",
       "      <td>1</td>\n",
       "      <td>2018-12-15 06:30:00</td>\n",
       "      <td>silver</td>\n",
       "      <td>NaN</td>\n",
       "      <td>NaN</td>\n",
       "      <td>1.544816e+09</td>\n",
       "      <td>google</td>\n",
       "      <td>2018-12-13 13:33:00</td>\n",
       "      <td>1</td>\n",
       "      <td>77459</td>\n",
       "      <td>2</td>\n",
       "      <td>2018</td>\n",
       "      <td>2.3</td>\n",
       "      <td>NaN</td>\n",
       "    </tr>\n",
       "    <tr>\n",
       "      <th>14290</th>\n",
       "      <td>0</td>\n",
       "      <td>NaN</td>\n",
       "      <td>1</td>\n",
       "      <td>2018-12-16 19:10:00</td>\n",
       "      <td>silver</td>\n",
       "      <td>NaN</td>\n",
       "      <td>Female</td>\n",
       "      <td>NaN</td>\n",
       "      <td>google</td>\n",
       "      <td>2018-12-14 17:57:00</td>\n",
       "      <td>1</td>\n",
       "      <td>77515</td>\n",
       "      <td>2</td>\n",
       "      <td>2018</td>\n",
       "      <td>2.3</td>\n",
       "      <td>NaN</td>\n",
       "    </tr>\n",
       "    <tr>\n",
       "      <th>14340</th>\n",
       "      <td>0</td>\n",
       "      <td>NaN</td>\n",
       "      <td>1</td>\n",
       "      <td>2018-12-19 21:31:00</td>\n",
       "      <td>silver</td>\n",
       "      <td>NaN</td>\n",
       "      <td>NaN</td>\n",
       "      <td>1.545216e+09</td>\n",
       "      <td>NaN</td>\n",
       "      <td>2018-12-18 13:59:00</td>\n",
       "      <td>1</td>\n",
       "      <td>77697</td>\n",
       "      <td>0</td>\n",
       "      <td>2018</td>\n",
       "      <td>2.3</td>\n",
       "      <td>NaN</td>\n",
       "    </tr>\n",
       "    <tr>\n",
       "      <th>14410</th>\n",
       "      <td>0</td>\n",
       "      <td>NaN</td>\n",
       "      <td>1</td>\n",
       "      <td>2019-03-01 21:46:00</td>\n",
       "      <td>bronze</td>\n",
       "      <td>NaN</td>\n",
       "      <td>NaN</td>\n",
       "      <td>1.546600e+09</td>\n",
       "      <td>NaN</td>\n",
       "      <td>2018-12-26 11:00:00</td>\n",
       "      <td>1</td>\n",
       "      <td>77981</td>\n",
       "      <td>0</td>\n",
       "      <td>2018</td>\n",
       "      <td>2.3</td>\n",
       "      <td>NaN</td>\n",
       "    </tr>\n",
       "  </tbody>\n",
       "</table>\n",
       "<p>461 rows × 16 columns</p>\n",
       "</div>"
      ],
      "text/plain": [
       "       access_level  age  buy_now_clicked buy_now_clicked_date chosen_package  \\\n",
       "5                 0  NaN                1  2017-02-01 06:36:00         bronze   \n",
       "7                 0  NaN                1  2017-01-21 22:30:00         silver   \n",
       "13                0  NaN                1  2017-03-01 03:44:00           gold   \n",
       "15                0  NaN                1  2017-04-01 10:40:00         bronze   \n",
       "38                0  NaN                1  2017-02-16 21:29:00         bronze   \n",
       "...             ...  ...              ...                  ...            ...   \n",
       "14268             0  NaN                1  2018-12-15 00:26:00         bronze   \n",
       "14270             0  NaN                1  2018-12-15 06:30:00         silver   \n",
       "14290             0  NaN                1  2018-12-16 19:10:00         silver   \n",
       "14340             0  NaN                1  2018-12-19 21:31:00         silver   \n",
       "14410             0  NaN                1  2019-03-01 21:46:00         bronze   \n",
       "\n",
       "      degree  gender    last_login oauth_provider   registration_date  status  \\\n",
       "5        NaN     NaN  1.483299e+09            NaN 2017-01-01 09:23:00       1   \n",
       "7        NaN     NaN  1.516419e+09            NaN 2017-01-01 17:59:00       1   \n",
       "13       NaN     NaN  1.537391e+09            NaN 2017-02-01 08:16:00       1   \n",
       "15       NaN    Male  1.483576e+09            NaN 2017-02-01 20:25:00       1   \n",
       "38       NaN     NaN           NaN            NaN 2017-04-01 14:49:00       1   \n",
       "...      ...     ...           ...            ...                 ...     ...   \n",
       "14268    NaN    Male           NaN         google 2018-12-13 12:54:00       1   \n",
       "14270    NaN     NaN  1.544816e+09         google 2018-12-13 13:33:00       1   \n",
       "14290    NaN  Female           NaN         google 2018-12-14 17:57:00       1   \n",
       "14340    NaN     NaN  1.545216e+09            NaN 2018-12-18 13:59:00       1   \n",
       "14410    NaN     NaN  1.546600e+09            NaN 2018-12-26 11:00:00       1   \n",
       "\n",
       "       user_id  user_type  registration_date_year  cost  fb_cost  \n",
       "5        19722          0                    2017   2.5      NaN  \n",
       "7        19738          0                    2017   2.5      NaN  \n",
       "13       19765          0                    2017   2.5      NaN  \n",
       "15       19775          0                    2017   2.5      NaN  \n",
       "38       19878          0                    2017   2.5      NaN  \n",
       "...        ...        ...                     ...   ...      ...  \n",
       "14268    77457          2                    2018   2.3      NaN  \n",
       "14270    77459          2                    2018   2.3      NaN  \n",
       "14290    77515          2                    2018   2.3      NaN  \n",
       "14340    77697          0                    2018   2.3      NaN  \n",
       "14410    77981          0                    2018   2.3      NaN  \n",
       "\n",
       "[461 rows x 16 columns]"
      ]
     },
     "execution_count": 76,
     "metadata": {},
     "output_type": "execute_result"
    }
   ],
   "source": [
    "subset_clicked = users.query(\"buy_now_clicked > 0\")\n",
    "subset_clicked[\"buy_now_clicked_date\"] = pd.to_datetime(subset_clicked[\"buy_now_clicked_date\"])\n",
    "subset_clicked"
   ]
  },
  {
   "cell_type": "code",
   "execution_count": 77,
   "metadata": {},
   "outputs": [],
   "source": [
    "merged = notifs.query(\"read_status > 0\").merge(subset_clicked[[\"buy_now_clicked_date\", \"user_id\"]], on=\"user_id\", how=\"left\")"
   ]
  },
  {
   "cell_type": "code",
   "execution_count": 78,
   "metadata": {},
   "outputs": [
    {
     "data": {
      "text/html": [
       "<div>\n",
       "<style scoped>\n",
       "    .dataframe tbody tr th:only-of-type {\n",
       "        vertical-align: middle;\n",
       "    }\n",
       "\n",
       "    .dataframe tbody tr th {\n",
       "        vertical-align: top;\n",
       "    }\n",
       "\n",
       "    .dataframe thead th {\n",
       "        text-align: right;\n",
       "    }\n",
       "</style>\n",
       "<table border=\"1\" class=\"dataframe\">\n",
       "  <thead>\n",
       "    <tr style=\"text-align: right;\">\n",
       "      <th></th>\n",
       "      <th>id</th>\n",
       "      <th>message_mode</th>\n",
       "      <th>user_id</th>\n",
       "      <th>read_status</th>\n",
       "      <th>added_date</th>\n",
       "      <th>buy_now_clicked_date</th>\n",
       "    </tr>\n",
       "  </thead>\n",
       "  <tbody>\n",
       "    <tr>\n",
       "      <th>0</th>\n",
       "      <td>20375</td>\n",
       "      <td>5</td>\n",
       "      <td>19691</td>\n",
       "      <td>1</td>\n",
       "      <td>2017-01-01 02:45:00</td>\n",
       "      <td>NaT</td>\n",
       "    </tr>\n",
       "    <tr>\n",
       "      <th>1</th>\n",
       "      <td>20403</td>\n",
       "      <td>2</td>\n",
       "      <td>19590</td>\n",
       "      <td>1</td>\n",
       "      <td>2017-01-01 08:45:00</td>\n",
       "      <td>NaT</td>\n",
       "    </tr>\n",
       "    <tr>\n",
       "      <th>2</th>\n",
       "      <td>20408</td>\n",
       "      <td>5</td>\n",
       "      <td>19656</td>\n",
       "      <td>1</td>\n",
       "      <td>2017-01-01 11:00:00</td>\n",
       "      <td>NaT</td>\n",
       "    </tr>\n",
       "    <tr>\n",
       "      <th>3</th>\n",
       "      <td>20415</td>\n",
       "      <td>2</td>\n",
       "      <td>19594</td>\n",
       "      <td>1</td>\n",
       "      <td>2017-01-01 13:15:00</td>\n",
       "      <td>NaT</td>\n",
       "    </tr>\n",
       "    <tr>\n",
       "      <th>4</th>\n",
       "      <td>20437</td>\n",
       "      <td>1</td>\n",
       "      <td>19707</td>\n",
       "      <td>1</td>\n",
       "      <td>2017-01-01 20:16:00</td>\n",
       "      <td>NaT</td>\n",
       "    </tr>\n",
       "    <tr>\n",
       "      <th>...</th>\n",
       "      <td>...</td>\n",
       "      <td>...</td>\n",
       "      <td>...</td>\n",
       "      <td>...</td>\n",
       "      <td>...</td>\n",
       "      <td>...</td>\n",
       "    </tr>\n",
       "    <tr>\n",
       "      <th>5433</th>\n",
       "      <td>222841</td>\n",
       "      <td>1</td>\n",
       "      <td>84768</td>\n",
       "      <td>1</td>\n",
       "      <td>2019-03-30 11:39:00</td>\n",
       "      <td>NaT</td>\n",
       "    </tr>\n",
       "    <tr>\n",
       "      <th>5434</th>\n",
       "      <td>222903</td>\n",
       "      <td>2</td>\n",
       "      <td>84458</td>\n",
       "      <td>1</td>\n",
       "      <td>2019-03-30 17:00:00</td>\n",
       "      <td>NaT</td>\n",
       "    </tr>\n",
       "    <tr>\n",
       "      <th>5435</th>\n",
       "      <td>222911</td>\n",
       "      <td>1</td>\n",
       "      <td>84793</td>\n",
       "      <td>1</td>\n",
       "      <td>2019-03-30 17:34:00</td>\n",
       "      <td>NaT</td>\n",
       "    </tr>\n",
       "    <tr>\n",
       "      <th>5436</th>\n",
       "      <td>222955</td>\n",
       "      <td>1</td>\n",
       "      <td>84805</td>\n",
       "      <td>1</td>\n",
       "      <td>2019-03-30 21:21:00</td>\n",
       "      <td>NaT</td>\n",
       "    </tr>\n",
       "    <tr>\n",
       "      <th>5437</th>\n",
       "      <td>223039</td>\n",
       "      <td>2</td>\n",
       "      <td>84510</td>\n",
       "      <td>1</td>\n",
       "      <td>2019-03-31 02:45:00</td>\n",
       "      <td>NaT</td>\n",
       "    </tr>\n",
       "  </tbody>\n",
       "</table>\n",
       "<p>5438 rows × 6 columns</p>\n",
       "</div>"
      ],
      "text/plain": [
       "          id  message_mode  user_id  read_status          added_date  \\\n",
       "0      20375             5    19691            1 2017-01-01 02:45:00   \n",
       "1      20403             2    19590            1 2017-01-01 08:45:00   \n",
       "2      20408             5    19656            1 2017-01-01 11:00:00   \n",
       "3      20415             2    19594            1 2017-01-01 13:15:00   \n",
       "4      20437             1    19707            1 2017-01-01 20:16:00   \n",
       "...      ...           ...      ...          ...                 ...   \n",
       "5433  222841             1    84768            1 2019-03-30 11:39:00   \n",
       "5434  222903             2    84458            1 2019-03-30 17:00:00   \n",
       "5435  222911             1    84793            1 2019-03-30 17:34:00   \n",
       "5436  222955             1    84805            1 2019-03-30 21:21:00   \n",
       "5437  223039             2    84510            1 2019-03-31 02:45:00   \n",
       "\n",
       "     buy_now_clicked_date  \n",
       "0                     NaT  \n",
       "1                     NaT  \n",
       "2                     NaT  \n",
       "3                     NaT  \n",
       "4                     NaT  \n",
       "...                   ...  \n",
       "5433                  NaT  \n",
       "5434                  NaT  \n",
       "5435                  NaT  \n",
       "5436                  NaT  \n",
       "5437                  NaT  \n",
       "\n",
       "[5438 rows x 6 columns]"
      ]
     },
     "execution_count": 78,
     "metadata": {},
     "output_type": "execute_result"
    }
   ],
   "source": [
    "merged"
   ]
  },
  {
   "cell_type": "code",
   "execution_count": 82,
   "metadata": {},
   "outputs": [],
   "source": [
    "import numpy as np\n",
    "merged[\"time_since_clicked\"] = (merged[\"added_date\"] - merged[\"buy_now_clicked_date\"])/np.timedelta64(1,'m')"
   ]
  },
  {
   "cell_type": "code",
   "execution_count": 83,
   "metadata": {},
   "outputs": [
    {
     "data": {
      "text/plain": [
       "277"
      ]
     },
     "execution_count": 83,
     "metadata": {},
     "output_type": "execute_result"
    }
   ],
   "source": [
    "merged[merged[\"time_since_clicked\"] <= 10].drop_duplicates(subset=\"user_id\").shape[0]"
   ]
  },
  {
   "cell_type": "code",
   "execution_count": 40,
   "metadata": {},
   "outputs": [
    {
     "name": "stderr",
     "output_type": "stream",
     "text": [
      "/tmp/ipykernel_3261/35780660.py:1: SettingWithCopyWarning: \n",
      "A value is trying to be set on a copy of a slice from a DataFrame.\n",
      "Try using .loc[row_indexer,col_indexer] = value instead\n",
      "\n",
      "See the caveats in the documentation: https://pandas.pydata.org/pandas-docs/stable/user_guide/indexing.html#returning-a-view-versus-a-copy\n",
      "  subset_clicked[\"buy_now_clicked_dt\"] = subset_clicked[\"buy_now_clicked_date\"].dt.date\n",
      "/tmp/ipykernel_3261/35780660.py:2: SettingWithCopyWarning: \n",
      "A value is trying to be set on a copy of a slice from a DataFrame.\n",
      "Try using .loc[row_indexer,col_indexer] = value instead\n",
      "\n",
      "See the caveats in the documentation: https://pandas.pydata.org/pandas-docs/stable/user_guide/indexing.html#returning-a-view-versus-a-copy\n",
      "  subset_clicked[\"buy_now_clicked_year\"] = subset_clicked[\"buy_now_clicked_date\"].dt.year\n"
     ]
    }
   ],
   "source": [
    "subset_clicked[\"buy_now_clicked_dt\"] = subset_clicked[\"buy_now_clicked_date\"].dt.date\n",
    "subset_clicked[\"buy_now_clicked_year\"] = subset_clicked[\"buy_now_clicked_date\"].dt.year"
   ]
  },
  {
   "cell_type": "code",
   "execution_count": 39,
   "metadata": {},
   "outputs": [
    {
     "name": "stderr",
     "output_type": "stream",
     "text": [
      "/tmp/ipykernel_3261/1061504496.py:1: SettingWithCopyWarning: \n",
      "A value is trying to be set on a copy of a slice from a DataFrame.\n",
      "Try using .loc[row_indexer,col_indexer] = value instead\n",
      "\n",
      "See the caveats in the documentation: https://pandas.pydata.org/pandas-docs/stable/user_guide/indexing.html#returning-a-view-versus-a-copy\n",
      "  subset_clicked[\"revenue\"] = subset_clicked[\"chosen_package\"].map({\"bronze\": 20, \"silver\": 50, \"gold\": 70})\n"
     ]
    }
   ],
   "source": [
    "subset_clicked[\"revenue\"] = subset_clicked[\"chosen_package\"].map({\"bronze\": 20, \"silver\": 50, \"gold\": 70})"
   ]
  },
  {
   "cell_type": "code",
   "execution_count": 42,
   "metadata": {},
   "outputs": [
    {
     "data": {
      "text/plain": [
       "19380.0"
      ]
     },
     "execution_count": 42,
     "metadata": {},
     "output_type": "execute_result"
    }
   ],
   "source": [
    "subset_clicked.groupby(\"buy_now_clicked_year\")[\"revenue\"].sum().sum()"
   ]
  },
  {
   "cell_type": "code",
   "execution_count": 43,
   "metadata": {},
   "outputs": [
    {
     "data": {
      "text/plain": [
       "16172"
      ]
     },
     "execution_count": 43,
     "metadata": {},
     "output_type": "execute_result"
    }
   ],
   "source": [
    "notifs[\"user_id\"].nunique()"
   ]
  },
  {
   "cell_type": "code",
   "execution_count": 44,
   "metadata": {},
   "outputs": [
    {
     "data": {
      "text/plain": [
       "3.105058125154588"
      ]
     },
     "execution_count": 44,
     "metadata": {},
     "output_type": "execute_result"
    }
   ],
   "source": [
    "notifs.shape[0] / notifs[\"user_id\"].nunique()"
   ]
  },
  {
   "cell_type": "code",
   "execution_count": 45,
   "metadata": {},
   "outputs": [
    {
     "data": {
      "text/plain": [
       "oauth_provider\n",
       "facebook    0.019295\n",
       "google      0.015492\n",
       "Name: buy_now_clicked, dtype: float64"
      ]
     },
     "execution_count": 45,
     "metadata": {},
     "output_type": "execute_result"
    }
   ],
   "source": [
    "users.groupby(\"oauth_provider\")[\"buy_now_clicked\"].mean()"
   ]
  },
  {
   "cell_type": "code",
   "execution_count": 46,
   "metadata": {},
   "outputs": [
    {
     "data": {
      "text/plain": [
       "access_level                0\n",
       "age                     14217\n",
       "buy_now_clicked             0\n",
       "buy_now_clicked_date        0\n",
       "chosen_package          13978\n",
       "degree                  14271\n",
       "gender                  10906\n",
       "last_login              13247\n",
       "oauth_provider          10142\n",
       "registration_date           0\n",
       "status                      0\n",
       "user_id                     0\n",
       "user_type                   0\n",
       "dtype: int64"
      ]
     },
     "execution_count": 46,
     "metadata": {},
     "output_type": "execute_result"
    }
   ],
   "source": [
    "users.isnull().sum()"
   ]
  },
  {
   "cell_type": "code",
   "execution_count": 49,
   "metadata": {},
   "outputs": [
    {
     "data": {
      "text/plain": [
       "0.7024032135189417"
      ]
     },
     "execution_count": 49,
     "metadata": {},
     "output_type": "execute_result"
    }
   ],
   "source": [
    "10142/users.shape[0]"
   ]
  },
  {
   "cell_type": "code",
   "execution_count": 50,
   "metadata": {},
   "outputs": [],
   "source": [
    "users[\"registration_date\"] = pd.to_datetime(users[\"registration_date\"])"
   ]
  },
  {
   "cell_type": "code",
   "execution_count": 51,
   "metadata": {},
   "outputs": [],
   "source": [
    "users[\"registration_date_year\"] = users[\"registration_date\"].dt.year"
   ]
  },
  {
   "cell_type": "code",
   "execution_count": 53,
   "metadata": {},
   "outputs": [],
   "source": [
    "users[\"cost\"] = users[\"registration_date_year\"].map({2017: 2.5, 2018: 2.3})"
   ]
  },
  {
   "cell_type": "code",
   "execution_count": 57,
   "metadata": {},
   "outputs": [],
   "source": [
    "subset = users.drop_duplicates(subset=\"user_id\")"
   ]
  },
  {
   "cell_type": "code",
   "execution_count": 63,
   "metadata": {},
   "outputs": [
    {
     "data": {
      "text/plain": [
       "17269.949999999997"
      ]
     },
     "execution_count": 63,
     "metadata": {},
     "output_type": "execute_result"
    }
   ],
   "source": [
    "subset.groupby(\"registration_date_year\")[\"cost\"].sum().mean()"
   ]
  },
  {
   "cell_type": "code",
   "execution_count": 66,
   "metadata": {},
   "outputs": [
    {
     "data": {
      "text/html": [
       "<div>\n",
       "<style scoped>\n",
       "    .dataframe tbody tr th:only-of-type {\n",
       "        vertical-align: middle;\n",
       "    }\n",
       "\n",
       "    .dataframe tbody tr th {\n",
       "        vertical-align: top;\n",
       "    }\n",
       "\n",
       "    .dataframe thead th {\n",
       "        text-align: right;\n",
       "    }\n",
       "</style>\n",
       "<table border=\"1\" class=\"dataframe\">\n",
       "  <thead>\n",
       "    <tr style=\"text-align: right;\">\n",
       "      <th></th>\n",
       "      <th>cost</th>\n",
       "    </tr>\n",
       "    <tr>\n",
       "      <th>registration_date_year</th>\n",
       "      <th></th>\n",
       "    </tr>\n",
       "  </thead>\n",
       "  <tbody>\n",
       "    <tr>\n",
       "      <th>2017</th>\n",
       "      <td>NaN</td>\n",
       "    </tr>\n",
       "    <tr>\n",
       "      <th>2018</th>\n",
       "      <td>0.077276</td>\n",
       "    </tr>\n",
       "  </tbody>\n",
       "</table>\n",
       "</div>"
      ],
      "text/plain": [
       "                            cost\n",
       "registration_date_year          \n",
       "2017                         NaN\n",
       "2018                    0.077276"
      ]
     },
     "execution_count": 66,
     "metadata": {},
     "output_type": "execute_result"
    }
   ],
   "source": [
    "subset.groupby(\"registration_date_year\")[\"cost\"].sum().to_frame().pct_change()"
   ]
  },
  {
   "cell_type": "code",
   "execution_count": 67,
   "metadata": {},
   "outputs": [
    {
     "data": {
      "text/html": [
       "<div>\n",
       "<style scoped>\n",
       "    .dataframe tbody tr th:only-of-type {\n",
       "        vertical-align: middle;\n",
       "    }\n",
       "\n",
       "    .dataframe tbody tr th {\n",
       "        vertical-align: top;\n",
       "    }\n",
       "\n",
       "    .dataframe thead th {\n",
       "        text-align: right;\n",
       "    }\n",
       "</style>\n",
       "<table border=\"1\" class=\"dataframe\">\n",
       "  <thead>\n",
       "    <tr style=\"text-align: right;\">\n",
       "      <th></th>\n",
       "      <th>cost</th>\n",
       "    </tr>\n",
       "    <tr>\n",
       "      <th>registration_date_year</th>\n",
       "      <th></th>\n",
       "    </tr>\n",
       "  </thead>\n",
       "  <tbody>\n",
       "    <tr>\n",
       "      <th>2017</th>\n",
       "      <td>NaN</td>\n",
       "    </tr>\n",
       "    <tr>\n",
       "      <th>2018</th>\n",
       "      <td>1284.9</td>\n",
       "    </tr>\n",
       "  </tbody>\n",
       "</table>\n",
       "</div>"
      ],
      "text/plain": [
       "                          cost\n",
       "registration_date_year        \n",
       "2017                       NaN\n",
       "2018                    1284.9"
      ]
     },
     "execution_count": 67,
     "metadata": {},
     "output_type": "execute_result"
    }
   ],
   "source": [
    "subset.groupby(\"registration_date_year\")[\"cost\"].sum().to_frame().diff()"
   ]
  },
  {
   "cell_type": "code",
   "execution_count": 68,
   "metadata": {},
   "outputs": [],
   "source": [
    "users[\"fb_cost\"] = users[\"oauth_provider\"].map({\"facebook\": 0.05})"
   ]
  },
  {
   "cell_type": "code",
   "execution_count": 70,
   "metadata": {},
   "outputs": [
    {
     "data": {
      "text/plain": [
       "registration_date_year\n",
       "2017    77.8\n",
       "2018    72.5\n",
       "Name: fb_cost, dtype: float64"
      ]
     },
     "execution_count": 70,
     "metadata": {},
     "output_type": "execute_result"
    }
   ],
   "source": [
    "users.query(\"oauth_provider == 'facebook'\").groupby(\"registration_date_year\")[\"fb_cost\"].sum()"
   ]
  },
  {
   "cell_type": "code",
   "execution_count": 72,
   "metadata": {},
   "outputs": [
    {
     "data": {
      "text/html": [
       "<div>\n",
       "<style scoped>\n",
       "    .dataframe tbody tr th:only-of-type {\n",
       "        vertical-align: middle;\n",
       "    }\n",
       "\n",
       "    .dataframe tbody tr th {\n",
       "        vertical-align: top;\n",
       "    }\n",
       "\n",
       "    .dataframe thead th {\n",
       "        text-align: right;\n",
       "    }\n",
       "</style>\n",
       "<table border=\"1\" class=\"dataframe\">\n",
       "  <thead>\n",
       "    <tr style=\"text-align: right;\">\n",
       "      <th></th>\n",
       "      <th>fb_cost</th>\n",
       "    </tr>\n",
       "    <tr>\n",
       "      <th>registration_date_year</th>\n",
       "      <th></th>\n",
       "    </tr>\n",
       "  </thead>\n",
       "  <tbody>\n",
       "    <tr>\n",
       "      <th>2017</th>\n",
       "      <td>NaN</td>\n",
       "    </tr>\n",
       "    <tr>\n",
       "      <th>2018</th>\n",
       "      <td>-5.3</td>\n",
       "    </tr>\n",
       "  </tbody>\n",
       "</table>\n",
       "</div>"
      ],
      "text/plain": [
       "                        fb_cost\n",
       "registration_date_year         \n",
       "2017                        NaN\n",
       "2018                       -5.3"
      ]
     },
     "execution_count": 72,
     "metadata": {},
     "output_type": "execute_result"
    }
   ],
   "source": [
    "users.query(\"oauth_provider == 'facebook'\").groupby(\"registration_date_year\")[\"fb_cost\"].sum().to_frame().diff()"
   ]
  },
  {
   "cell_type": "code",
   "execution_count": 73,
   "metadata": {},
   "outputs": [
    {
     "data": {
      "text/plain": [
       "67.2"
      ]
     },
     "execution_count": 73,
     "metadata": {},
     "output_type": "execute_result"
    }
   ],
   "source": [
    "72.5 - 5.3"
   ]
  },
  {
   "cell_type": "code",
   "execution_count": 74,
   "metadata": {},
   "outputs": [
    {
     "data": {
      "text/plain": [
       "0        0000-00-00 00:00:00\n",
       "1        0000-00-00 00:00:00\n",
       "2        0000-00-00 00:00:00\n",
       "3        0000-00-00 00:00:00\n",
       "4        0000-00-00 00:00:00\n",
       "                ...         \n",
       "14434    0000-00-00 00:00:00\n",
       "14435    0000-00-00 00:00:00\n",
       "14436    0000-00-00 00:00:00\n",
       "14437    0000-00-00 00:00:00\n",
       "14438    0000-00-00 00:00:00\n",
       "Name: buy_now_clicked_date, Length: 14439, dtype: object"
      ]
     },
     "execution_count": 74,
     "metadata": {},
     "output_type": "execute_result"
    }
   ],
   "source": [
    "users[\"buy_now_clicked_date\"]"
   ]
  },
  {
   "cell_type": "code",
   "execution_count": null,
   "metadata": {},
   "outputs": [],
   "source": []
  }
 ],
 "metadata": {
  "interpreter": {
   "hash": "949777d72b0d2535278d3dc13498b2535136f6dfe0678499012e853ee9abcab1"
  },
  "kernelspec": {
   "display_name": "Python 3.9.7 64-bit",
   "name": "python3"
  },
  "language_info": {
   "codemirror_mode": {
    "name": "ipython",
    "version": 3
   },
   "file_extension": ".py",
   "mimetype": "text/x-python",
   "name": "python",
   "nbconvert_exporter": "python",
   "pygments_lexer": "ipython3",
   "version": "3.9.7"
  },
  "orig_nbformat": 4
 },
 "nbformat": 4,
 "nbformat_minor": 2
}
