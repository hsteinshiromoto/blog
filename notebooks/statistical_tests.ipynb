{
 "cells": [
  {
   "cell_type": "markdown",
   "metadata": {},
   "source": [
    "**Abstract**. Abstract Every quantity that is estimated from the data, such as the mean or the variance of a Gaussian variable, is subject to statistical fluctuations of the measurements. For this reason they are referred to as a statistics. If a different sample of measurements is collected, statistical fluctuations will certainly give rise to a different set of measurements, even if the experiments are performed under the same conditions. The use of different data samples to measure the same statistic results in the determination of the sampling distribution of the statistic, to describe what is the expected range of values for that quantity. In this blog post we derive the distribution of a few fundamental statistics that play a central role in data analysis, such as the $\\chi^2$ statistic. The distribution of each statistic can be used for a variety of tests, including the acceptance or rejection of the fit to a model."
   ]
  },
  {
   "cell_type": "markdown",
   "metadata": {},
   "source": [
    "Hypothesis testing is the process that establishes whether the measurement of a given statistic, such as the sample mean, is consistent with its theoretical distribution. The process of hypothesis testing requires a considerable amount of care in the definition the hypothesis to test and in drawing conclusions. Hypothesis tests can be divided into two main schools of thought: Bayesian and Statistical inference (Neyman-Pearson's Method). [3]"
   ]
  },
  {
   "cell_type": "markdown",
   "metadata": {},
   "source": [
    "For a given hypothesis $H$ to be tested, it must be formulated in the following form\n",
    "* $H_0$ The statement of the phenomenon is false\n",
    "* $H$ The statement about the phenomenon is true"
   ]
  },
  {
   "cell_type": "markdown",
   "metadata": {},
   "source": [
    "# Bayesian Inference"
   ]
  },
  {
   "cell_type": "markdown",
   "metadata": {},
   "source": [
    "The problem can formulated in the following way: we want to know the conditional probability for a hypothesis being true, given a certain outcome of an experiment or measurement"
   ]
  },
  {
   "cell_type": "markdown",
   "metadata": {},
   "source": [
    "$$P(H|O)=\\dfrac{P(O|H)P(H)}{P(O|H)P(H)+P(O|H_0)P(H_0)}$$"
   ]
  },
  {
   "cell_type": "markdown",
   "metadata": {},
   "source": [
    "where\n",
    "* $P(H_0)$ is the prior probability of the null hypothesis be true\n",
    "* $P(H)$ is the prior probability of the alternative hypothesis be true\n",
    "* $P(*|O)$ is the probability of the (null) hypothesis given the outcome"
   ]
  },
  {
   "cell_type": "markdown",
   "metadata": {},
   "source": [
    "By fixing a critical value $\\alpha$, one either can verify the probability of hypothesis $P(H|O)$ is higher or smaller than $\\alpha$. Then, one accepts the hypothesis if $P(H|O)\\geq\\alpha$."
   ]
  },
  {
   "cell_type": "markdown",
   "metadata": {},
   "source": [
    "**Example**. Consider a coin that has been tossed 100 times. Given that number of tails is 70, is this coin fair?"
   ]
  },
  {
   "cell_type": "code",
   "execution_count": 1,
   "metadata": {
    "ExecuteTime": {
     "end_time": "2020-05-01T06:35:42.608574Z",
     "start_time": "2020-05-01T06:35:42.554111Z"
    }
   },
   "outputs": [],
   "source": [
    "# Todo: Add coin example here"
   ]
  },
  {
   "cell_type": "markdown",
   "metadata": {
    "hide_input": true
   },
   "source": [
    "# Statistical Inference"
   ]
  },
  {
   "cell_type": "code",
   "execution_count": null,
   "metadata": {},
   "outputs": [],
   "source": []
  },
  {
   "cell_type": "markdown",
   "metadata": {},
   "source": [
    "Hypothesis testing is the process that establishes whether the measurement of a given statistic, such as the sample mean, is consistent with its theoretical distribution. The process of hypothesis testing requires a considerable amount of care in the definition the hypothesis to test and in drawing conclusions. The method can be divided into the following four steps."
   ]
  },
  {
   "cell_type": "markdown",
   "metadata": {},
   "source": [
    "1. Define the hypothesis to test. For example, define if the test is to decide if there exists a difference between the parameter to be tested with respect to a given value. This is the null hypothesis.\n",
    "\n",
    "2. Determine the statistics to use for the null hypothesis. The choice of statistic means that we are in a position to use the theoretical distribution function for that statistic to tell whether the actual measurements are consistent with its expected distribution, according to the null hypothesis.\n",
    "\n",
    "3. Determine the probability or confidence level for the agreement between the statistic and its expected distribution under the null hypothesis. This confidence level defines a range of values for statistics that are consistent with its expected distribution. This range is called *acceptable region* for the statistic. Values of the statistics outside of the acceptable range define the *rejection region*.\n",
    "\n",
    "For a statistic described by a $\\mathcal{N}(0,1)$, "
   ]
  },
  {
   "cell_type": "markdown",
   "metadata": {},
   "source": [
    "**Definition**. Let $x_1,x_2\\in\\mathbb{R}$. The notation $x_1\\neq x_2$ stands for, there exists an index $i\\in\\mathbb{N}_{\\leq n}$ such that $x_{1i}\\neq x_{2i}$."
   ]
  },
  {
   "cell_type": "markdown",
   "metadata": {},
   "source": [
    "Let $E=\\text{span}\\{x\\}$, every hypothesis $H$ consists of an assumption about the probability density [2] \n",
    "$$ f(x;\\lambda)\\;, $$\n",
    "where $\\lambda\\in\\mathbb{R}^n$."
   ]
  },
  {
   "cell_type": "markdown",
   "metadata": {},
   "source": [
    "The hypothesis $H_0$ is said to be the null hypothesis if, for a given $\\lambda_0\\in\\mathbb{R}^n$,\n",
    "$$ H_0(\\lambda=\\lambda_0)\\;. $$\n",
    "The alternative hypothesis is formulated as\n",
    "$$ H_1(\\lambda\\neq\\lambda_0)\\;. $$"
   ]
  },
  {
   "cell_type": "markdown",
   "metadata": {},
   "source": [
    "Since the null hypothesis makes a statement about the probability density in the sample space, it also predicts the probability for observing a point $X$. The critical region $S_c$ with a significance level $\\alpha$ is given by\n",
    "$$ P(X\\in S_c|H_0)=\\alpha $$"
   ]
  },
  {
   "cell_type": "markdown",
   "metadata": {},
   "source": [
    "In other words, we determine $S_c$ such that the probability to observe a point $X\\in E$ within $S_c$ is $α$, under the assumption that $H_0$ is true. If the point $X$ from the sample actually falls into the region $S_c$, then the hypothesis $H_0$ is rejected. Note that the above equation does not define the critical region $S_c$ uniquely."
   ]
  },
  {
   "cell_type": "markdown",
   "metadata": {},
   "source": [
    "In practice, the set $E$ is not available due to the lack of knowledge of the population. Instead one constructs a test statistic\n",
    "$$ T(X) $$\n",
    "and determines a region $U$ of the variable $T$ such that it corresponds to the critical region $S_c$, i.e.,\n",
    "$$X\\mapsto T(X), S_c(X)\\mapsto U(X).$$\n",
    "\n",
    "The null hypothesis is rejected, whenever $T\\in U$"
   ]
  },
  {
   "cell_type": "markdown",
   "metadata": {},
   "source": [
    "The following is from [2]"
   ]
  },
  {
   "cell_type": "markdown",
   "metadata": {},
   "source": [
    "Related reading: Neyman–Pearson Lemma"
   ]
  },
  {
   "cell_type": "markdown",
   "metadata": {},
   "source": [
    "## F-Test on Equality of Variances"
   ]
  },
  {
   "cell_type": "markdown",
   "metadata": {},
   "source": [
    "## Student's Test: Comparison of Means"
   ]
  },
  {
   "cell_type": "code",
   "execution_count": null,
   "metadata": {},
   "outputs": [],
   "source": []
  },
  {
   "cell_type": "markdown",
   "metadata": {},
   "source": [
    "# Errors"
   ]
  },
  {
   "cell_type": "markdown",
   "metadata": {},
   "source": [
    "Because of the statistical nature of the sample, it is clearly possible that the null hypothesis could be true, even though it was rejected since $X \\in S_c$. The probability for such an error, an error of the first kind, is equal to $\\alpha$."
   ]
  },
  {
   "cell_type": "markdown",
   "metadata": {},
   "source": [
    "There is in addition another possibility to make a wrong decision, if one does not reject the hypothesis $H_0$ because $X$ was not in the critical region $S_c$, even though the hypothesis was actually false and an alternative hypothesis was true. This is an error of the second kind. The probability for this,\n",
    "$$P(X\\notin S_c|H_1)=\\beta$$"
   ]
  },
  {
   "cell_type": "markdown",
   "metadata": {},
   "source": [
    "This connection with the alternative hypothesis $H_1$ provides us with a method to specify the critical region $S_c$. A test is clearly most reasonable if for a given significance level $\\alpha$ the critical region is chosen such that the probability $\\beta$ for an error of the second kind is a minimum. The critical region and therefore the test itself naturally depend on the alternative hypothesis under consideration."
   ]
  },
  {
   "cell_type": "markdown",
   "metadata": {},
   "source": [
    "Once the critical region has been determined, we can consider the probability for rejecting the null hypothesis as a function of the ``true'' hypothesis, or rather as a function of the parameters that describe it. \n",
    "$$ M(S_c,\\lambda)=P(X\\in S_c|H)=P(X\\in S_c|\\lambda)$$"
   ]
  },
  {
   "cell_type": "markdown",
   "metadata": {},
   "source": []
  },
  {
   "cell_type": "markdown",
   "metadata": {},
   "source": [
    "# Import"
   ]
  },
  {
   "cell_type": "markdown",
   "metadata": {
    "ExecuteTime": {
     "end_time": "2020-04-21T06:54:12.566372Z",
     "start_time": "2020-04-21T06:54:12.558705Z"
    }
   },
   "source": [
    "## Modules"
   ]
  },
  {
   "cell_type": "markdown",
   "metadata": {
    "hide_input": false
   },
   "source": [
    "# References"
   ]
  },
  {
   "cell_type": "markdown",
   "metadata": {},
   "source": [
    "[1] M. Bonamente, \"Statistics and Analysis of Scientific Data\", Springer, 2017\n",
    "\n",
    "[2] S. Brandt, \"Data Analysis\", Springer, 2014\n",
    "\n",
    "[3] L.-G. Johansson, \"Philosophy of Science for Scientists\", Springer 2016"
   ]
  },
  {
   "cell_type": "code",
   "execution_count": null,
   "metadata": {},
   "outputs": [],
   "source": []
  }
 ],
 "metadata": {
  "gist": {
   "data": {
    "description": "work/notebooks/Untitled.ipynb",
    "public": false
   },
   "id": ""
  },
  "kernelspec": {
   "display_name": "Python 3",
   "language": "python",
   "name": "python3"
  },
  "language_info": {
   "codemirror_mode": {
    "name": "ipython",
    "version": 3
   },
   "file_extension": ".py",
   "mimetype": "text/x-python",
   "name": "python",
   "nbconvert_exporter": "python",
   "pygments_lexer": "ipython3",
   "version": "3.7.3"
  },
  "toc": {
   "base_numbering": 1,
   "nav_menu": {},
   "number_sections": true,
   "sideBar": true,
   "skip_h1_title": false,
   "title_cell": "Table of Contents",
   "title_sidebar": "Contents",
   "toc_cell": false,
   "toc_position": {},
   "toc_section_display": true,
   "toc_window_display": true
  }
 },
 "nbformat": 4,
 "nbformat_minor": 2
}
